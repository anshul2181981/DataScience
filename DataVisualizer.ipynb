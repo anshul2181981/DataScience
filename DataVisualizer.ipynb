{
 "cells": [
  {
   "cell_type": "code",
   "execution_count": 17,
   "metadata": {},
   "outputs": [],
   "source": [
    "import warnings\n",
    "import pandas as pd\n",
    "import altair as alt\n",
    "import datapane as dp\n",
    "from reader_writer import ReaderWriter\n",
    "#from pandas_profiling import ProfileReport #cool package to describe a dataset\n",
    "from tqdm import tqdm #for progress bars\n"
   ]
  },
  {
   "cell_type": "code",
   "execution_count": 18,
   "metadata": {},
   "outputs": [],
   "source": [
    "warnings.simplefilter('ignore') #suppress warnings\n",
    "rw = ReaderWriter()"
   ]
  },
  {
   "cell_type": "code",
   "execution_count": 19,
   "metadata": {},
   "outputs": [
    {
     "name": "stderr",
     "output_type": "stream",
     "text": [
      "my bar!: 100%|██████████| 559/559 [00:00<00:00, 77595.18it/s]"
     ]
    },
    {
     "name": "stdout",
     "output_type": "stream",
     "text": [
      "file type is .csv\n",
      "in csv_reader\n"
     ]
    },
    {
     "name": "stderr",
     "output_type": "stream",
     "text": [
      "\n"
     ]
    }
   ],
   "source": [
    "df = rw.file_reader(\"Movie-Ratings.csv\")\n",
    "#df.head()\n",
    "# which version of pandas-profiling am I using\n",
    "#!pip freeze |grep pandas-profiling \n",
    "\n",
    "#adding progress bar through tqdm\n",
    "tqdm.pandas(desc=\"my bar!\")\n",
    "df['my_column']=df['Audience Ratings %'].progress_apply(lambda x: x-10)\n",
    "\n",
    "#profile = ProfileReport(df)\n",
    "#profile\n",
    "\n"
   ]
  },
  {
   "cell_type": "code",
   "execution_count": 20,
   "metadata": {},
   "outputs": [],
   "source": [
    "#df.tail()\n",
    "#profile.to_file(\"first profile html.html\")"
   ]
  },
  {
   "cell_type": "code",
   "execution_count": 21,
   "metadata": {},
   "outputs": [
    {
     "data": {
      "application/vnd.vegalite.v3+json": {
       "$schema": "https://vega.github.io/schema/vega-lite/v3.4.0.json",
       "config": {
        "mark": {
         "tooltip": null
        },
        "view": {
         "height": 300,
         "width": 400
        }
       },
       "data": {
        "name": "data-d260f3771e57818d61b99ad7bc975389"
       },
       "datasets": {
        "data-d260f3771e57818d61b99ad7bc975389": [
         {
          "Audience Ratings %": 81,
          "Budget (million $)": 8,
          "Film": "(500) Days of Summer ",
          "Genre": "Comedy",
          "Rotten Tomatoes Ratings %": 87,
          "Year of release": 2009,
          "my_column": 71
         },
         {
          "Audience Ratings %": 44,
          "Budget (million $)": 105,
          "Film": "10,000 B.C.",
          "Genre": "Adventure",
          "Rotten Tomatoes Ratings %": 9,
          "Year of release": 2008,
          "my_column": 34
         },
         {
          "Audience Ratings %": 52,
          "Budget (million $)": 20,
          "Film": "12 Rounds ",
          "Genre": "Action",
          "Rotten Tomatoes Ratings %": 30,
          "Year of release": 2009,
          "my_column": 42
         },
         {
          "Audience Ratings %": 84,
          "Budget (million $)": 18,
          "Film": "127 Hours",
          "Genre": "Adventure",
          "Rotten Tomatoes Ratings %": 93,
          "Year of release": 2010,
          "my_column": 74
         },
         {
          "Audience Ratings %": 70,
          "Budget (million $)": 20,
          "Film": "17 Again ",
          "Genre": "Comedy",
          "Rotten Tomatoes Ratings %": 55,
          "Year of release": 2009,
          "my_column": 60
         },
         {
          "Audience Ratings %": 63,
          "Budget (million $)": 200,
          "Film": "2012",
          "Genre": "Action",
          "Rotten Tomatoes Ratings %": 39,
          "Year of release": 2009,
          "my_column": 53
         },
         {
          "Audience Ratings %": 71,
          "Budget (million $)": 30,
          "Film": "27 Dresses",
          "Genre": "Comedy",
          "Rotten Tomatoes Ratings %": 40,
          "Year of release": 2008,
          "my_column": 61
         },
         {
          "Audience Ratings %": 57,
          "Budget (million $)": 32,
          "Film": "30 Days of Night",
          "Genre": "Horror",
          "Rotten Tomatoes Ratings %": 50,
          "Year of release": 2007,
          "my_column": 47
         },
         {
          "Audience Ratings %": 48,
          "Budget (million $)": 28,
          "Film": "30 Minutes or Less",
          "Genre": "Comedy",
          "Rotten Tomatoes Ratings %": 43,
          "Year of release": 2011,
          "my_column": 38
         },
         {
          "Audience Ratings %": 93,
          "Budget (million $)": 8,
          "Film": "50/50",
          "Genre": "Comedy",
          "Rotten Tomatoes Ratings %": 93,
          "Year of release": 2011,
          "my_column": 83
         },
         {
          "Audience Ratings %": 51,
          "Budget (million $)": 30,
          "Film": "88 Minutes",
          "Genre": "Drama",
          "Rotten Tomatoes Ratings %": 5,
          "Year of release": 2007,
          "my_column": 41
         },
         {
          "Audience Ratings %": 89,
          "Budget (million $)": 20,
          "Film": "A Dangerous Method",
          "Genre": "Drama",
          "Rotten Tomatoes Ratings %": 79,
          "Year of release": 2011,
          "my_column": 79
         },
         {
          "Audience Ratings %": 40,
          "Budget (million $)": 35,
          "Film": "A Nightmare on Elm Street",
          "Genre": "Horror",
          "Rotten Tomatoes Ratings %": 13,
          "Year of release": 2010,
          "my_column": 30
         },
         {
          "Audience Ratings %": 64,
          "Budget (million $)": 7,
          "Film": "A Serious Man ",
          "Genre": "Drama",
          "Rotten Tomatoes Ratings %": 89,
          "Year of release": 2009,
          "my_column": 54
         },
         {
          "Audience Ratings %": 71,
          "Budget (million $)": 19,
          "Film": "A Very Harold and Kumar Christmas",
          "Genre": "Comedy",
          "Rotten Tomatoes Ratings %": 72,
          "Year of release": 2011,
          "my_column": 61
         },
         {
          "Audience Ratings %": 46,
          "Budget (million $)": 35,
          "Film": "Abduction",
          "Genre": "Action",
          "Rotten Tomatoes Ratings %": 4,
          "Year of release": 2011,
          "my_column": 36
         },
         {
          "Audience Ratings %": 84,
          "Budget (million $)": 45,
          "Film": "Across the Universe",
          "Genre": "Romance",
          "Rotten Tomatoes Ratings %": 54,
          "Year of release": 2007,
          "my_column": 74
         },
         {
          "Audience Ratings %": 56,
          "Budget (million $)": 10,
          "Film": "Adventureland ",
          "Genre": "Comedy",
          "Rotten Tomatoes Ratings %": 89,
          "Year of release": 2009,
          "my_column": 46
         },
         {
          "Audience Ratings %": 43,
          "Budget (million $)": 8,
          "Film": "Albert Nobbs",
          "Genre": "Drama",
          "Rotten Tomatoes Ratings %": 53,
          "Year of release": 2011,
          "my_column": 33
         },
         {
          "Audience Ratings %": 72,
          "Budget (million $)": 200,
          "Film": "Alice in Wonderland",
          "Genre": "Adventure",
          "Rotten Tomatoes Ratings %": 52,
          "Year of release": 2010,
          "my_column": 62
         },
         {
          "Audience Ratings %": 37,
          "Budget (million $)": 40,
          "Film": "Alien vs. Predator -- Requiem",
          "Genre": "Horror",
          "Rotten Tomatoes Ratings %": 14,
          "Year of release": 2007,
          "my_column": 27
         },
         {
          "Audience Ratings %": 46,
          "Budget (million $)": 45,
          "Film": "Aliens in the Attic ",
          "Genre": "Adventure",
          "Rotten Tomatoes Ratings %": 30,
          "Year of release": 2009,
          "my_column": 36
         },
         {
          "Audience Ratings %": 35,
          "Budget (million $)": 15,
          "Film": "All About Steve ",
          "Genre": "Comedy",
          "Rotten Tomatoes Ratings %": 6,
          "Year of release": 2009,
          "my_column": 25
         },
         {
          "Audience Ratings %": 64,
          "Budget (million $)": 20,
          "Film": "All Good Things",
          "Genre": "Drama",
          "Rotten Tomatoes Ratings %": 33,
          "Year of release": 2010,
          "my_column": 54
         },
         {
          "Audience Ratings %": 35,
          "Budget (million $)": 40,
          "Film": "Amelia ",
          "Genre": "Adventure",
          "Rotten Tomatoes Ratings %": 21,
          "Year of release": 2009,
          "my_column": 25
         },
         {
          "Audience Ratings %": 87,
          "Budget (million $)": 100,
          "Film": "American Gangster",
          "Genre": "Thriller",
          "Rotten Tomatoes Ratings %": 79,
          "Year of release": 2007,
          "my_column": 77
         },
         {
          "Audience Ratings %": 78,
          "Budget (million $)": 8,
          "Film": "An Education",
          "Genre": "Drama",
          "Rotten Tomatoes Ratings %": 94,
          "Year of release": 2009,
          "my_column": 68
         },
         {
          "Audience Ratings %": 66,
          "Budget (million $)": 30,
          "Film": "Anonymous",
          "Genre": "Drama",
          "Rotten Tomatoes Ratings %": 46,
          "Year of release": 2011,
          "my_column": 56
         },
         {
          "Audience Ratings %": 31,
          "Budget (million $)": 5,
          "Film": "Apollo 18",
          "Genre": "Horror",
          "Rotten Tomatoes Ratings %": 23,
          "Year of release": 2011,
          "my_column": 21
         },
         {
          "Audience Ratings %": 55,
          "Budget (million $)": 20,
          "Film": "Appaloosa",
          "Genre": "Action",
          "Rotten Tomatoes Ratings %": 77,
          "Year of release": 2008,
          "my_column": 45
         },
         {
          "Audience Ratings %": 34,
          "Budget (million $)": 20,
          "Film": "Armored ",
          "Genre": "Action",
          "Rotten Tomatoes Ratings %": 40,
          "Year of release": 2009,
          "my_column": 24
         },
         {
          "Audience Ratings %": 49,
          "Budget (million $)": 40,
          "Film": "Arthur",
          "Genre": "Comedy",
          "Rotten Tomatoes Ratings %": 26,
          "Year of release": 2011,
          "my_column": 39
         },
         {
          "Audience Ratings %": 69,
          "Budget (million $)": 78,
          "Film": "Australia",
          "Genre": "Adventure",
          "Rotten Tomatoes Ratings %": 55,
          "Year of release": 2008,
          "my_column": 59
         },
         {
          "Audience Ratings %": 92,
          "Budget (million $)": 237,
          "Film": "Avatar ",
          "Genre": "Action",
          "Rotten Tomatoes Ratings %": 83,
          "Year of release": 2009,
          "my_column": 82
         },
         {
          "Audience Ratings %": 74,
          "Budget (million $)": 21,
          "Film": "Away We Go ",
          "Genre": "Comedy",
          "Rotten Tomatoes Ratings %": 67,
          "Year of release": 2009,
          "my_column": 64
         },
         {
          "Audience Ratings %": 59,
          "Budget (million $)": 70,
          "Film": "Baby Mama",
          "Genre": "Comedy",
          "Rotten Tomatoes Ratings %": 63,
          "Year of release": 2008,
          "my_column": 49
         },
         {
          "Audience Ratings %": 32,
          "Budget (million $)": 45,
          "Film": "Babylon A.D.",
          "Genre": "Action",
          "Rotten Tomatoes Ratings %": 7,
          "Year of release": 2008,
          "my_column": 22
         },
         {
          "Audience Ratings %": 38,
          "Budget (million $)": 20,
          "Film": "Bad Teacher",
          "Genre": "Comedy",
          "Rotten Tomatoes Ratings %": 44,
          "Year of release": 2011,
          "my_column": 28
         },
         {
          "Audience Ratings %": 60,
          "Budget (million $)": 20,
          "Film": "Bandslam ",
          "Genre": "Comedy",
          "Rotten Tomatoes Ratings %": 79,
          "Year of release": 2009,
          "my_column": 50
         },
         {
          "Audience Ratings %": 33,
          "Budget (million $)": 45,
          "Film": "Bangkok Dangerous",
          "Genre": "Action",
          "Rotten Tomatoes Ratings %": 9,
          "Year of release": 2008,
          "my_column": 23
         },
         {
          "Audience Ratings %": 50,
          "Budget (million $)": 70,
          "Film": "Battle: Los Angeles",
          "Genre": "Action",
          "Rotten Tomatoes Ratings %": 35,
          "Year of release": 2011,
          "my_column": 40
         },
         {
          "Audience Ratings %": 57,
          "Budget (million $)": 20,
          "Film": "Be Kind, Rewind",
          "Genre": "Comedy",
          "Rotten Tomatoes Ratings %": 65,
          "Year of release": 2008,
          "my_column": 47
         },
         {
          "Audience Ratings %": 50,
          "Budget (million $)": 17,
          "Film": "Beastly",
          "Genre": "Romance",
          "Rotten Tomatoes Ratings %": 19,
          "Year of release": 2011,
          "my_column": 40
         },
         {
          "Audience Ratings %": 63,
          "Budget (million $)": 80,
          "Film": "Bedtime Stories",
          "Genre": "Comedy",
          "Rotten Tomatoes Ratings %": 25,
          "Year of release": 2008,
          "my_column": 53
         },
         {
          "Audience Ratings %": 80,
          "Budget (million $)": 4,
          "Film": "Beginners",
          "Genre": "Comedy",
          "Rotten Tomatoes Ratings %": 84,
          "Year of release": 2010,
          "my_column": 70
         },
         {
          "Audience Ratings %": 52,
          "Budget (million $)": 150,
          "Film": "Beowulf",
          "Genre": "Action",
          "Rotten Tomatoes Ratings %": 71,
          "Year of release": 2007,
          "my_column": 42
         },
         {
          "Audience Ratings %": 56,
          "Budget (million $)": 20,
          "Film": "Beverly Hills Chihuahua",
          "Genre": "Adventure",
          "Rotten Tomatoes Ratings %": 41,
          "Year of release": 2008,
          "my_column": 46
         },
         {
          "Audience Ratings %": 86,
          "Budget (million $)": 13,
          "Film": "Black Swan        ",
          "Genre": "Drama",
          "Rotten Tomatoes Ratings %": 88,
          "Year of release": 2010,
          "my_column": 76
         },
         {
          "Audience Ratings %": 66,
          "Budget (million $)": 61,
          "Film": "Blades of Glory",
          "Genre": "Comedy",
          "Rotten Tomatoes Ratings %": 69,
          "Year of release": 2007,
          "my_column": 56
         },
         {
          "Audience Ratings %": 65,
          "Budget (million $)": 68,
          "Film": "Body of Lies",
          "Genre": "Action",
          "Rotten Tomatoes Ratings %": 53,
          "Year of release": 2008,
          "my_column": 55
         },
         {
          "Audience Ratings %": 56,
          "Budget (million $)": 30,
          "Film": "Bride Wars ",
          "Genre": "Comedy",
          "Rotten Tomatoes Ratings %": 11,
          "Year of release": 2009,
          "my_column": 46
         },
         {
          "Audience Ratings %": 77,
          "Budget (million $)": 33,
          "Film": "Bridesmaids",
          "Genre": "Comedy",
          "Rotten Tomatoes Ratings %": 90,
          "Year of release": 2011,
          "my_column": 67
         },
         {
          "Audience Ratings %": 47,
          "Budget (million $)": 17,
          "Film": "Brooklyn's Finest",
          "Genre": "Action",
          "Rotten Tomatoes Ratings %": 42,
          "Year of release": 2009,
          "my_column": 37
         },
         {
          "Audience Ratings %": 62,
          "Budget (million $)": 26,
          "Film": "Brothers ",
          "Genre": "Drama",
          "Rotten Tomatoes Ratings %": 61,
          "Year of release": 2009,
          "my_column": 52
         },
         {
          "Audience Ratings %": 48,
          "Budget (million $)": 42,
          "Film": "Bruno ",
          "Genre": "Comedy",
          "Rotten Tomatoes Ratings %": 68,
          "Year of release": 2009,
          "my_column": 38
         },
         {
          "Audience Ratings %": 63,
          "Budget (million $)": 2,
          "Film": "Buried",
          "Genre": "Drama",
          "Rotten Tomatoes Ratings %": 86,
          "Year of release": 2010,
          "my_column": 53
         },
         {
          "Audience Ratings %": 66,
          "Budget (million $)": 55,
          "Film": "Burlesque",
          "Genre": "Drama",
          "Rotten Tomatoes Ratings %": 36,
          "Year of release": 2010,
          "my_column": 56
         },
         {
          "Audience Ratings %": 64,
          "Budget (million $)": 37,
          "Film": "Burn After Reading",
          "Genre": "Comedy",
          "Rotten Tomatoes Ratings %": 78,
          "Year of release": 2008,
          "my_column": 54
         },
         {
          "Audience Ratings %": 75,
          "Budget (million $)": 140,
          "Film": "Captain America: The First Avenger",
          "Genre": "Action",
          "Rotten Tomatoes Ratings %": 78,
          "Year of release": 2011,
          "my_column": 65
         },
         {
          "Audience Ratings %": 42,
          "Budget (million $)": 26,
          "Film": "Case 39",
          "Genre": "Horror",
          "Rotten Tomatoes Ratings %": 23,
          "Year of release": 2009,
          "my_column": 32
         },
         {
          "Audience Ratings %": 43,
          "Budget (million $)": 85,
          "Film": "Cats & Dogs: The Revenge of Kitty Galore",
          "Genre": "Action",
          "Rotten Tomatoes Ratings %": 13,
          "Year of release": 2010,
          "my_column": 33
         },
         {
          "Audience Ratings %": 61,
          "Budget (million $)": 10,
          "Film": "Cedar Rapids",
          "Genre": "Comedy",
          "Rotten Tomatoes Ratings %": 86,
          "Year of release": 2011,
          "my_column": 51
         },
         {
          "Audience Ratings %": 84,
          "Budget (million $)": 55,
          "Film": "Changeling",
          "Genre": "Drama",
          "Rotten Tomatoes Ratings %": 62,
          "Year of release": 2008,
          "my_column": 74
         },
         {
          "Audience Ratings %": 50,
          "Budget (million $)": 40,
          "Film": "Cirque du Freak: The Vampire's Assistant ",
          "Genre": "Action",
          "Rotten Tomatoes Ratings %": 38,
          "Year of release": 2009,
          "my_column": 40
         },
         {
          "Audience Ratings %": 77,
          "Budget (million $)": 6,
          "Film": "City Island",
          "Genre": "Comedy",
          "Rotten Tomatoes Ratings %": 81,
          "Year of release": 2009,
          "my_column": 67
         },
         {
          "Audience Ratings %": 48,
          "Budget (million $)": 38,
          "Film": "City of Ember",
          "Genre": "Adventure",
          "Rotten Tomatoes Ratings %": 52,
          "Year of release": 2008,
          "my_column": 38
         },
         {
          "Audience Ratings %": 48,
          "Budget (million $)": 125,
          "Film": "Clash of the Titans",
          "Genre": "Action",
          "Rotten Tomatoes Ratings %": 28,
          "Year of release": 2010,
          "my_column": 38
         },
         {
          "Audience Ratings %": 67,
          "Budget (million $)": 25,
          "Film": "Cloverfield",
          "Genre": "Action",
          "Rotten Tomatoes Ratings %": 77,
          "Year of release": 2008,
          "my_column": 57
         },
         {
          "Audience Ratings %": 56,
          "Budget (million $)": 140,
          "Film": "College Road Trip",
          "Genre": "Adventure",
          "Rotten Tomatoes Ratings %": 13,
          "Year of release": 2008,
          "my_column": 46
         },
         {
          "Audience Ratings %": 55,
          "Budget (million $)": 40,
          "Film": "Colombiana",
          "Genre": "Action",
          "Rotten Tomatoes Ratings %": 28,
          "Year of release": 2011,
          "my_column": 45
         },
         {
          "Audience Ratings %": 34,
          "Budget (million $)": 90,
          "Film": "Conan the Barbarian",
          "Genre": "Action",
          "Rotten Tomatoes Ratings %": 22,
          "Year of release": 2011,
          "my_column": 24
         },
         {
          "Audience Ratings %": 53,
          "Budget (million $)": 70,
          "Film": "Confessions of a Shopaholic ",
          "Genre": "Comedy",
          "Rotten Tomatoes Ratings %": 24,
          "Year of release": 2009,
          "my_column": 43
         },
         {
          "Audience Ratings %": 63,
          "Budget (million $)": 60,
          "Film": "Contagion",
          "Genre": "Thriller",
          "Rotten Tomatoes Ratings %": 84,
          "Year of release": 2011,
          "my_column": 53
         },
         {
          "Audience Ratings %": 45,
          "Budget (million $)": 30,
          "Film": "Cop Out",
          "Genre": "Action",
          "Rotten Tomatoes Ratings %": 19,
          "Year of release": 2010,
          "my_column": 35
         },
         {
          "Audience Ratings %": 56,
          "Budget (million $)": 15,
          "Film": "Country Strong",
          "Genre": "Drama",
          "Rotten Tomatoes Ratings %": 20,
          "Year of release": 2010,
          "my_column": 46
         },
         {
          "Audience Ratings %": 47,
          "Budget (million $)": 60,
          "Film": "Couples Retreat ",
          "Genre": "Comedy",
          "Rotten Tomatoes Ratings %": 12,
          "Year of release": 2009,
          "my_column": 37
         },
         {
          "Audience Ratings %": 50,
          "Budget (million $)": 163,
          "Film": "Cowboys and Aliens",
          "Genre": "Action",
          "Rotten Tomatoes Ratings %": 44,
          "Year of release": 2011,
          "my_column": 40
         },
         {
          "Audience Ratings %": 54,
          "Budget (million $)": 13,
          "Film": "Crank: High Voltage ",
          "Genre": "Action",
          "Rotten Tomatoes Ratings %": 62,
          "Year of release": 2009,
          "my_column": 44
         },
         {
          "Audience Ratings %": 81,
          "Budget (million $)": 50,
          "Film": "Crazy, Stupid, Love",
          "Genre": "Romance",
          "Rotten Tomatoes Ratings %": 78,
          "Year of release": 2011,
          "my_column": 71
         },
         {
          "Audience Ratings %": 51,
          "Budget (million $)": 7,
          "Film": "Cyrus",
          "Genre": "Comedy",
          "Rotten Tomatoes Ratings %": 80,
          "Year of release": 2010,
          "my_column": 41
         },
         {
          "Audience Ratings %": 63,
          "Budget (million $)": 6,
          "Film": "Daddy Day Camp",
          "Genre": "Comedy",
          "Rotten Tomatoes Ratings %": 1,
          "Year of release": 2007,
          "my_column": 53
         },
         {
          "Audience Ratings %": 35,
          "Budget (million $)": 25,
          "Film": "Dance Flick ",
          "Genre": "Action",
          "Rotten Tomatoes Ratings %": 17,
          "Year of release": 2009,
          "my_column": 25
         },
         {
          "Audience Ratings %": 58,
          "Budget (million $)": 55,
          "Film": "Date Night",
          "Genre": "Comedy",
          "Rotten Tomatoes Ratings %": 66,
          "Year of release": 2010,
          "my_column": 48
         },
         {
          "Audience Ratings %": 50,
          "Budget (million $)": 20,
          "Film": "Daybreakers\t",
          "Genre": "Action",
          "Rotten Tomatoes Ratings %": 67,
          "Year of release": 2009,
          "my_column": 40
         },
         {
          "Audience Ratings %": 66,
          "Budget (million $)": 25,
          "Film": "Dear John",
          "Genre": "Drama",
          "Rotten Tomatoes Ratings %": 29,
          "Year of release": 2010,
          "my_column": 56
         },
         {
          "Audience Ratings %": 48,
          "Budget (million $)": 21,
          "Film": "Death at a Funeral",
          "Genre": "Comedy",
          "Rotten Tomatoes Ratings %": 40,
          "Year of release": 2007,
          "my_column": 38
         },
         {
          "Audience Ratings %": 69,
          "Budget (million $)": 45,
          "Film": "Death Race",
          "Genre": "Action",
          "Rotten Tomatoes Ratings %": 42,
          "Year of release": 2008,
          "my_column": 59
         },
         {
          "Audience Ratings %": 72,
          "Budget (million $)": 7,
          "Film": "Definitely, Maybe",
          "Genre": "Comedy",
          "Rotten Tomatoes Ratings %": 71,
          "Year of release": 2008,
          "my_column": 62
         },
         {
          "Audience Ratings %": 45,
          "Budget (million $)": 10,
          "Film": "Devil",
          "Genre": "Horror",
          "Rotten Tomatoes Ratings %": 52,
          "Year of release": 2010,
          "my_column": 35
         },
         {
          "Audience Ratings %": 49,
          "Budget (million $)": 15,
          "Film": "Diary of a Wimpy Kid",
          "Genre": "Comedy",
          "Rotten Tomatoes Ratings %": 53,
          "Year of release": 2010,
          "my_column": 39
         },
         {
          "Audience Ratings %": 63,
          "Budget (million $)": 21,
          "Film": "Diary of a Wimpy Kid 2: Rodrick Rules",
          "Genre": "Comedy",
          "Rotten Tomatoes Ratings %": 47,
          "Year of release": 2011,
          "my_column": 53
         },
         {
          "Audience Ratings %": 31,
          "Budget (million $)": 58,
          "Film": "Did You Hear About the Morgans? ",
          "Genre": "Comedy",
          "Rotten Tomatoes Ratings %": 12,
          "Year of release": 2009,
          "my_column": 21
         },
         {
          "Audience Ratings %": 47,
          "Budget (million $)": 69,
          "Film": "Dinner for Schmucks",
          "Genre": "Comedy",
          "Rotten Tomatoes Ratings %": 43,
          "Year of release": 2010,
          "my_column": 37
         },
         {
          "Audience Ratings %": 28,
          "Budget (million $)": 20,
          "Film": "Disaster Movie",
          "Genre": "Comedy",
          "Rotten Tomatoes Ratings %": 2,
          "Year of release": 2008,
          "my_column": 18
         },
         {
          "Audience Ratings %": 81,
          "Budget (million $)": 30,
          "Film": "District 9 ",
          "Genre": "Action",
          "Rotten Tomatoes Ratings %": 91,
          "Year of release": 2009,
          "my_column": 71
         },
         {
          "Audience Ratings %": 75,
          "Budget (million $)": 20,
          "Film": "Disturbia",
          "Genre": "Thriller",
          "Rotten Tomatoes Ratings %": 67,
          "Year of release": 2007,
          "my_column": 65
         },
         {
          "Audience Ratings %": 81,
          "Budget (million $)": 37,
          "Film": "Dolphin Tale",
          "Genre": "Drama",
          "Rotten Tomatoes Ratings %": 84,
          "Year of release": 2011,
          "my_column": 71
         },
         {
          "Audience Ratings %": 37,
          "Budget (million $)": 25,
          "Film": "Don't Be Afraid Of The Dark",
          "Genre": "Horror",
          "Rotten Tomatoes Ratings %": 59,
          "Year of release": 2010,
          "my_column": 27
         },
         {
          "Audience Ratings %": 47,
          "Budget (million $)": 33,
          "Film": "Doomsday",
          "Genre": "Action",
          "Rotten Tomatoes Ratings %": 48,
          "Year of release": 2008,
          "my_column": 37
         },
         {
          "Audience Ratings %": 75,
          "Budget (million $)": 25,
          "Film": "Doubt",
          "Genre": "Drama",
          "Rotten Tomatoes Ratings %": 78,
          "Year of release": 2008,
          "my_column": 65
         },
         {
          "Audience Ratings %": 61,
          "Budget (million $)": 30,
          "Film": "Drag Me to Hell ",
          "Genre": "Horror",
          "Rotten Tomatoes Ratings %": 92,
          "Year of release": 2009,
          "my_column": 51
         },
         {
          "Audience Ratings %": 44,
          "Budget (million $)": 75,
          "Film": "Dragon Wars (aka D-War)",
          "Genre": "Action",
          "Rotten Tomatoes Ratings %": 27,
          "Year of release": 2007,
          "my_column": 34
         },
         {
          "Audience Ratings %": 28,
          "Budget (million $)": 30,
          "Film": "Dragonball Evolution ",
          "Genre": "Action",
          "Rotten Tomatoes Ratings %": 15,
          "Year of release": 2009,
          "my_column": 18
         },
         {
          "Audience Ratings %": 38,
          "Budget (million $)": 50,
          "Film": "Dream House",
          "Genre": "Horror",
          "Rotten Tomatoes Ratings %": 7,
          "Year of release": 2011,
          "my_column": 28
         },
         {
          "Audience Ratings %": 49,
          "Budget (million $)": 40,
          "Film": "Drillbit Taylor",
          "Genre": "Comedy",
          "Rotten Tomatoes Ratings %": 26,
          "Year of release": 2008,
          "my_column": 39
         },
         {
          "Audience Ratings %": 79,
          "Budget (million $)": 15,
          "Film": "Drive",
          "Genre": "Thriller",
          "Rotten Tomatoes Ratings %": 93,
          "Year of release": 2011,
          "my_column": 69
         },
         {
          "Audience Ratings %": 38,
          "Budget (million $)": 45,
          "Film": "Drive Angry",
          "Genre": "Action",
          "Rotten Tomatoes Ratings %": 45,
          "Year of release": 2011,
          "my_column": 28
         },
         {
          "Audience Ratings %": 56,
          "Budget (million $)": 50,
          "Film": "Due Date",
          "Genre": "Comedy",
          "Rotten Tomatoes Ratings %": 40,
          "Year of release": 2010,
          "my_column": 46
         },
         {
          "Audience Ratings %": 38,
          "Budget (million $)": 60,
          "Film": "Duplicity ",
          "Genre": "Romance",
          "Rotten Tomatoes Ratings %": 64,
          "Year of release": 2009,
          "my_column": 28
         },
         {
          "Audience Ratings %": 28,
          "Budget (million $)": 20,
          "Film": "Dylan Dog: Dead of Night",
          "Genre": "Horror",
          "Rotten Tomatoes Ratings %": 6,
          "Year of release": 2010,
          "my_column": 18
         },
         {
          "Audience Ratings %": 72,
          "Budget (million $)": 80,
          "Film": "Eagle Eye",
          "Genre": "Action",
          "Rotten Tomatoes Ratings %": 27,
          "Year of release": 2008,
          "my_column": 62
         },
         {
          "Audience Ratings %": 75,
          "Budget (million $)": 8,
          "Film": "Easy A",
          "Genre": "Comedy",
          "Rotten Tomatoes Ratings %": 85,
          "Year of release": 2010,
          "my_column": 65
         },
         {
          "Audience Ratings %": 46,
          "Budget (million $)": 60,
          "Film": "Eat Pray Love\t",
          "Genre": "Drama",
          "Rotten Tomatoes Ratings %": 36,
          "Year of release": 2010,
          "my_column": 36
         },
         {
          "Audience Ratings %": 80,
          "Budget (million $)": 85,
          "Film": "Enchanted",
          "Genre": "Comedy",
          "Rotten Tomatoes Ratings %": 93,
          "Year of release": 2007,
          "my_column": 70
         },
         {
          "Audience Ratings %": 38,
          "Budget (million $)": 20,
          "Film": "Epic Movie",
          "Genre": "Comedy",
          "Rotten Tomatoes Ratings %": 2,
          "Year of release": 2007,
          "my_column": 28
         },
         {
          "Audience Ratings %": 56,
          "Budget (million $)": 175,
          "Film": "Evan Almighty",
          "Genre": "Comedy",
          "Rotten Tomatoes Ratings %": 23,
          "Year of release": 2007,
          "my_column": 46
         },
         {
          "Audience Ratings %": 55,
          "Budget (million $)": 21,
          "Film": "Everybody's Fine ",
          "Genre": "Drama",
          "Rotten Tomatoes Ratings %": 46,
          "Year of release": 2009,
          "my_column": 45
         },
         {
          "Audience Ratings %": 53,
          "Budget (million $)": 5,
          "Film": "Everything Must Go",
          "Genre": "Drama",
          "Rotten Tomatoes Ratings %": 74,
          "Year of release": 2010,
          "my_column": 43
         },
         {
          "Audience Ratings %": 37,
          "Budget (million $)": 8,
          "Film": "Extract ",
          "Genre": "Comedy",
          "Rotten Tomatoes Ratings %": 62,
          "Year of release": 2009,
          "my_column": 27
         },
         {
          "Audience Ratings %": 55,
          "Budget (million $)": 31,
          "Film": "Extraordinary Measures\t",
          "Genre": "Drama",
          "Rotten Tomatoes Ratings %": 27,
          "Year of release": 2010,
          "my_column": 45
         },
         {
          "Audience Ratings %": 62,
          "Budget (million $)": 40,
          "Film": "Extremely Loud and Incredibly Close",
          "Genre": "Drama",
          "Rotten Tomatoes Ratings %": 47,
          "Year of release": 2011,
          "my_column": 52
         },
         {
          "Audience Ratings %": 43,
          "Budget (million $)": 18,
          "Film": "Fame",
          "Genre": "Comedy",
          "Rotten Tomatoes Ratings %": 25,
          "Year of release": 2009,
          "my_column": 33
         },
         {
          "Audience Ratings %": 55,
          "Budget (million $)": 130,
          "Film": "Fantastic Four: Rise of the Silver Surfer",
          "Genre": "Action",
          "Rotten Tomatoes Ratings %": 35,
          "Year of release": 2007,
          "my_column": 45
         },
         {
          "Audience Ratings %": 76,
          "Budget (million $)": 85,
          "Film": "Fast and Furious ",
          "Genre": "Action",
          "Rotten Tomatoes Ratings %": 28,
          "Year of release": 2009,
          "my_column": 66
         },
         {
          "Audience Ratings %": 83,
          "Budget (million $)": 125,
          "Film": "Fast Five",
          "Genre": "Action",
          "Rotten Tomatoes Ratings %": 78,
          "Year of release": 2011,
          "my_column": 73
         },
         {
          "Audience Ratings %": 50,
          "Budget (million $)": 24,
          "Film": "Faster\t",
          "Genre": "Action",
          "Rotten Tomatoes Ratings %": 41,
          "Year of release": 2010,
          "my_column": 40
         },
         {
          "Audience Ratings %": 56,
          "Budget (million $)": 40,
          "Film": "Final Destination 5",
          "Genre": "Horror",
          "Rotten Tomatoes Ratings %": 61,
          "Year of release": 2011,
          "my_column": 46
         },
         {
          "Audience Ratings %": 52,
          "Budget (million $)": 20,
          "Film": "Fired Up! ",
          "Genre": "Comedy",
          "Rotten Tomatoes Ratings %": 22,
          "Year of release": 2009,
          "my_column": 42
         },
         {
          "Audience Ratings %": 51,
          "Budget (million $)": 1,
          "Film": "Fireproof",
          "Genre": "Drama",
          "Rotten Tomatoes Ratings %": 40,
          "Year of release": 2008,
          "my_column": 41
         },
         {
          "Audience Ratings %": 59,
          "Budget (million $)": 13,
          "Film": "First Sunday",
          "Genre": "Comedy",
          "Rotten Tomatoes Ratings %": 13,
          "Year of release": 2008,
          "my_column": 49
         },
         {
          "Audience Ratings %": 53,
          "Budget (million $)": 73,
          "Film": "Fool's Gold",
          "Genre": "Adventure",
          "Rotten Tomatoes Ratings %": 11,
          "Year of release": 2008,
          "my_column": 43
         },
         {
          "Audience Ratings %": 71,
          "Budget (million $)": 24,
          "Film": "Footloose",
          "Genre": "Drama",
          "Rotten Tomatoes Ratings %": 71,
          "Year of release": 2011,
          "my_column": 61
         },
         {
          "Audience Ratings %": 73,
          "Budget (million $)": 21,
          "Film": "For Colored Girls",
          "Genre": "Drama",
          "Rotten Tomatoes Ratings %": 33,
          "Year of release": 2010,
          "my_column": 63
         },
         {
          "Audience Ratings %": 75,
          "Budget (million $)": 30,
          "Film": "Forgetting Sarah Marshall",
          "Genre": "Comedy",
          "Rotten Tomatoes Ratings %": 85,
          "Year of release": 2008,
          "my_column": 65
         },
         {
          "Audience Ratings %": 52,
          "Budget (million $)": 80,
          "Film": "Four Christmases",
          "Genre": "Comedy",
          "Rotten Tomatoes Ratings %": 26,
          "Year of release": 2008,
          "my_column": 42
         },
         {
          "Audience Ratings %": 52,
          "Budget (million $)": 19,
          "Film": "Friday the 13th",
          "Genre": "Horror",
          "Rotten Tomatoes Ratings %": 25,
          "Year of release": 2009,
          "my_column": 42
         },
         {
          "Audience Ratings %": 68,
          "Budget (million $)": 35,
          "Film": "Friends With Benefits",
          "Genre": "Romance",
          "Rotten Tomatoes Ratings %": 71,
          "Year of release": 2011,
          "my_column": 58
         },
         {
          "Audience Ratings %": 68,
          "Budget (million $)": 30,
          "Film": "Fright Night",
          "Genre": "Horror",
          "Rotten Tomatoes Ratings %": 75,
          "Year of release": 2011,
          "my_column": 58
         },
         {
          "Audience Ratings %": 57,
          "Budget (million $)": 52,
          "Film": "From Paris with Love",
          "Genre": "Action",
          "Rotten Tomatoes Ratings %": 38,
          "Year of release": 2010,
          "my_column": 47
         },
         {
          "Audience Ratings %": 58,
          "Budget (million $)": 75,
          "Film": "Funny People ",
          "Genre": "Comedy",
          "Rotten Tomatoes Ratings %": 68,
          "Year of release": 2009,
          "my_column": 48
         },
         {
          "Audience Ratings %": 36,
          "Budget (million $)": 35,
          "Film": "Furry Vengeance\t",
          "Genre": "Comedy",
          "Rotten Tomatoes Ratings %": 8,
          "Year of release": 2010,
          "my_column": 26
         },
         {
          "Audience Ratings %": 50,
          "Budget (million $)": 150,
          "Film": "G-Force ",
          "Genre": "Action",
          "Rotten Tomatoes Ratings %": 22,
          "Year of release": 2009,
          "my_column": 40
         },
         {
          "Audience Ratings %": 62,
          "Budget (million $)": 175,
          "Film": "G.I. Joe: The Rise of Cobra ",
          "Genre": "Action",
          "Rotten Tomatoes Ratings %": 33,
          "Year of release": 2009,
          "my_column": 52
         },
         {
          "Audience Ratings %": 43,
          "Budget (million $)": 13,
          "Film": "Gamer ",
          "Genre": "Action",
          "Rotten Tomatoes Ratings %": 29,
          "Year of release": 2009,
          "my_column": 33
         },
         {
          "Audience Ratings %": 63,
          "Budget (million $)": 40,
          "Film": "Get Him to the Greek",
          "Genre": "Comedy",
          "Rotten Tomatoes Ratings %": 73,
          "Year of release": 2010,
          "my_column": 53
         },
         {
          "Audience Ratings %": 73,
          "Budget (million $)": 80,
          "Film": "Get Smart",
          "Genre": "Action",
          "Rotten Tomatoes Ratings %": 51,
          "Year of release": 2008,
          "my_column": 63
         },
         {
          "Audience Ratings %": 56,
          "Budget (million $)": 110,
          "Film": "Ghost Rider",
          "Genre": "Action",
          "Rotten Tomatoes Ratings %": 28,
          "Year of release": 2007,
          "my_column": 46
         },
         {
          "Audience Ratings %": 60,
          "Budget (million $)": 20,
          "Film": "Ghost Town",
          "Genre": "Comedy",
          "Rotten Tomatoes Ratings %": 85,
          "Year of release": 2008,
          "my_column": 50
         },
         {
          "Audience Ratings %": 47,
          "Budget (million $)": 50,
          "Film": "Ghosts of Girlfriends Past ",
          "Genre": "Comedy",
          "Rotten Tomatoes Ratings %": 27,
          "Year of release": 2009,
          "my_column": 37
         },
         {
          "Audience Ratings %": 56,
          "Budget (million $)": 32,
          "Film": "Going the Distance",
          "Genre": "Comedy",
          "Rotten Tomatoes Ratings %": 53,
          "Year of release": 2010,
          "my_column": 46
         },
         {
          "Audience Ratings %": 61,
          "Budget (million $)": 25,
          "Film": "Good Luck Chuck",
          "Genre": "Comedy",
          "Rotten Tomatoes Ratings %": 3,
          "Year of release": 2007,
          "my_column": 51
         },
         {
          "Audience Ratings %": 90,
          "Budget (million $)": 33,
          "Film": "Gran Torino",
          "Genre": "Drama",
          "Rotten Tomatoes Ratings %": 80,
          "Year of release": 2008,
          "my_column": 80
         },
         {
          "Audience Ratings %": 48,
          "Budget (million $)": 200,
          "Film": "Green Lantern",
          "Genre": "Action",
          "Rotten Tomatoes Ratings %": 27,
          "Year of release": 2011,
          "my_column": 38
         },
         {
          "Audience Ratings %": 60,
          "Budget (million $)": 100,
          "Film": "Green Zone",
          "Genre": "Action",
          "Rotten Tomatoes Ratings %": 53,
          "Year of release": 2010,
          "my_column": 50
         },
         {
          "Audience Ratings %": 40,
          "Budget (million $)": 0,
          "Film": "Greenberg",
          "Genre": "Comedy",
          "Rotten Tomatoes Ratings %": 75,
          "Year of release": 2010,
          "my_column": 30
         },
         {
          "Audience Ratings %": 86,
          "Budget (million $)": 53,
          "Film": "Grindhouse",
          "Genre": "Action",
          "Rotten Tomatoes Ratings %": 82,
          "Year of release": 2007,
          "my_column": 76
         },
         {
          "Audience Ratings %": 59,
          "Budget (million $)": 80,
          "Film": "Grown Ups\t",
          "Genre": "Comedy",
          "Rotten Tomatoes Ratings %": 10,
          "Year of release": 2010,
          "my_column": 49
         },
         {
          "Audience Ratings %": 31,
          "Budget (million $)": 112,
          "Film": "Gulliver's Travels",
          "Genre": "Comedy",
          "Rotten Tomatoes Ratings %": 21,
          "Year of release": 2010,
          "my_column": 21
         },
         {
          "Audience Ratings %": 85,
          "Budget (million $)": 16,
          "Film": "Hachiko: A Dog's Story",
          "Genre": "Drama",
          "Rotten Tomatoes Ratings %": 58,
          "Year of release": 2009,
          "my_column": 75
         },
         {
          "Audience Ratings %": 44,
          "Budget (million $)": 36,
          "Film": "Hall Pass",
          "Genre": "Comedy",
          "Rotten Tomatoes Ratings %": 35,
          "Year of release": 2011,
          "my_column": 34
         },
         {
          "Audience Ratings %": 64,
          "Budget (million $)": 20,
          "Film": "Halloween",
          "Genre": "Horror",
          "Rotten Tomatoes Ratings %": 26,
          "Year of release": 2007,
          "my_column": 54
         },
         {
          "Audience Ratings %": 45,
          "Budget (million $)": 15,
          "Film": "Halloween II",
          "Genre": "Horror",
          "Rotten Tomatoes Ratings %": 20,
          "Year of release": 2009,
          "my_column": 35
         },
         {
          "Audience Ratings %": 67,
          "Budget (million $)": 150,
          "Film": "Hancock",
          "Genre": "Action",
          "Rotten Tomatoes Ratings %": 40,
          "Year of release": 2008,
          "my_column": 57
         },
         {
          "Audience Ratings %": 67,
          "Budget (million $)": 30,
          "Film": "Hanna",
          "Genre": "Action",
          "Rotten Tomatoes Ratings %": 71,
          "Year of release": 2011,
          "my_column": 57
         },
         {
          "Audience Ratings %": 66,
          "Budget (million $)": 35,
          "Film": "Hannah Montana: The Movie ",
          "Genre": "Comedy",
          "Rotten Tomatoes Ratings %": 44,
          "Year of release": 2009,
          "my_column": 56
         },
         {
          "Audience Ratings %": 65,
          "Budget (million $)": 12,
          "Film": "Harold and Kumar Escape from Guantanamo Bay",
          "Genre": "Adventure",
          "Rotten Tomatoes Ratings %": 54,
          "Year of release": 2008,
          "my_column": 55
         },
         {
          "Audience Ratings %": 87,
          "Budget (million $)": 125,
          "Film": "Harry Potter and the Deathly Hallows Part 1",
          "Genre": "Adventure",
          "Rotten Tomatoes Ratings %": 79,
          "Year of release": 2010,
          "my_column": 77
         },
         {
          "Audience Ratings %": 75,
          "Budget (million $)": 250,
          "Film": "Harry Potter and the Half-Blood Prince ",
          "Genre": "Adventure",
          "Rotten Tomatoes Ratings %": 83,
          "Year of release": 2009,
          "my_column": 65
         },
         {
          "Audience Ratings %": 82,
          "Budget (million $)": 150,
          "Film": "Harry Potter and the Order of the Phoenix",
          "Genre": "Adventure",
          "Rotten Tomatoes Ratings %": 78,
          "Year of release": 2007,
          "my_column": 72
         },
         {
          "Audience Ratings %": 60,
          "Budget (million $)": 25,
          "Film": "He's Just Not That Into You ",
          "Genre": "Comedy",
          "Rotten Tomatoes Ratings %": 42,
          "Year of release": 2009,
          "my_column": 50
         },
         {
          "Audience Ratings %": 70,
          "Budget (million $)": 83,
          "Film": "Hellboy II: The Golden Army",
          "Genre": "Action",
          "Rotten Tomatoes Ratings %": 87,
          "Year of release": 2008,
          "my_column": 60
         },
         {
          "Audience Ratings %": 68,
          "Budget (million $)": 7,
          "Film": "Hesher",
          "Genre": "Drama",
          "Rotten Tomatoes Ratings %": 54,
          "Year of release": 2010,
          "my_column": 58
         },
         {
          "Audience Ratings %": 76,
          "Budget (million $)": 11,
          "Film": "High School Musical 3: Senior Year",
          "Genre": "Comedy",
          "Rotten Tomatoes Ratings %": 65,
          "Year of release": 2008,
          "my_column": 66
         },
         {
          "Audience Ratings %": 61,
          "Budget (million $)": 18,
          "Film": "Hitman",
          "Genre": "Action",
          "Rotten Tomatoes Ratings %": 15,
          "Year of release": 2007,
          "my_column": 51
         },
         {
          "Audience Ratings %": 72,
          "Budget (million $)": 35,
          "Film": "Horrible Bosses",
          "Genre": "Comedy",
          "Rotten Tomatoes Ratings %": 69,
          "Year of release": 2011,
          "my_column": 62
         },
         {
          "Audience Ratings %": 45,
          "Budget (million $)": 10,
          "Film": "Hostel: Part II",
          "Genre": "Horror",
          "Rotten Tomatoes Ratings %": 44,
          "Year of release": 2007,
          "my_column": 35
         },
         {
          "Audience Ratings %": 57,
          "Budget (million $)": 36,
          "Film": "Hot Tub Time Machine",
          "Genre": "Adventure",
          "Rotten Tomatoes Ratings %": 64,
          "Year of release": 2010,
          "my_column": 47
         },
         {
          "Audience Ratings %": 57,
          "Budget (million $)": 35,
          "Film": "Hotel for Dogs ",
          "Genre": "Comedy",
          "Rotten Tomatoes Ratings %": 46,
          "Year of release": 2009,
          "my_column": 47
         },
         {
          "Audience Ratings %": 84,
          "Budget (million $)": 150,
          "Film": "Hugo",
          "Genre": "Adventure",
          "Rotten Tomatoes Ratings %": 93,
          "Year of release": 2011,
          "my_column": 74
         },
         {
          "Audience Ratings %": 69,
          "Budget (million $)": 150,
          "Film": "I Am Legend",
          "Genre": "Thriller",
          "Rotten Tomatoes Ratings %": 69,
          "Year of release": 2007,
          "my_column": 59
         },
         {
          "Audience Ratings %": 57,
          "Budget (million $)": 60,
          "Film": "I Am Number Four",
          "Genre": "Thriller",
          "Rotten Tomatoes Ratings %": 32,
          "Year of release": 2011,
          "my_column": 47
         },
         {
          "Audience Ratings %": 38,
          "Budget (million $)": 18,
          "Film": "I Love You Beth Cooper ",
          "Genre": "Comedy",
          "Rotten Tomatoes Ratings %": 14,
          "Year of release": 2009,
          "my_column": 28
         },
         {
          "Audience Ratings %": 57,
          "Budget (million $)": 15,
          "Film": "I Love You Phillip Morris",
          "Genre": "Comedy",
          "Rotten Tomatoes Ratings %": 71,
          "Year of release": 2009,
          "my_column": 47
         },
         {
          "Audience Ratings %": 72,
          "Budget (million $)": 40,
          "Film": "I Love You, Man ",
          "Genre": "Comedy",
          "Rotten Tomatoes Ratings %": 83,
          "Year of release": 2009,
          "my_column": 62
         },
         {
          "Audience Ratings %": 73,
          "Budget (million $)": 85,
          "Film": "I Now Pronounce You Chuck and Larry",
          "Genre": "Comedy",
          "Rotten Tomatoes Ratings %": 13,
          "Year of release": 2007,
          "my_column": 63
         },
         {
          "Audience Ratings %": 38,
          "Budget (million $)": 0,
          "Film": "I'm Still Here",
          "Genre": "Comedy",
          "Rotten Tomatoes Ratings %": 52,
          "Year of release": 2010,
          "my_column": 28
         },
         {
          "Audience Ratings %": 44,
          "Budget (million $)": 55,
          "Film": "Imagine That ",
          "Genre": "Comedy",
          "Rotten Tomatoes Ratings %": 38,
          "Year of release": 2009,
          "my_column": 34
         },
         {
          "Audience Ratings %": 59,
          "Budget (million $)": 75,
          "Film": "Immortals",
          "Genre": "Action",
          "Rotten Tomatoes Ratings %": 36,
          "Year of release": 2011,
          "my_column": 49
         },
         {
          "Audience Ratings %": 72,
          "Budget (million $)": 10,
          "Film": "In the Land of Women",
          "Genre": "Comedy",
          "Rotten Tomatoes Ratings %": 43,
          "Year of release": 2007,
          "my_column": 62
         },
         {
          "Audience Ratings %": 55,
          "Budget (million $)": 40,
          "Film": "In Time",
          "Genre": "Thriller",
          "Rotten Tomatoes Ratings %": 38,
          "Year of release": 2011,
          "my_column": 45
         },
         {
          "Audience Ratings %": 93,
          "Budget (million $)": 160,
          "Film": "Inception",
          "Genre": "Action",
          "Rotten Tomatoes Ratings %": 86,
          "Year of release": 2010,
          "my_column": 83
         },
         {
          "Audience Ratings %": 59,
          "Budget (million $)": 185,
          "Film": "Indiana Jones and the Kingdom of the Crystal Skull",
          "Genre": "Action",
          "Rotten Tomatoes Ratings %": 77,
          "Year of release": 2008,
          "my_column": 49
         },
         {
          "Audience Ratings %": 87,
          "Budget (million $)": 70,
          "Film": "Inglourious Basterds ",
          "Genre": "Adventure",
          "Rotten Tomatoes Ratings %": 88,
          "Year of release": 2009,
          "my_column": 77
         },
         {
          "Audience Ratings %": 51,
          "Budget (million $)": 60,
          "Film": "Inkheart ",
          "Genre": "Adventure",
          "Rotten Tomatoes Ratings %": 39,
          "Year of release": 2008,
          "my_column": 41
         },
         {
          "Audience Ratings %": 65,
          "Budget (million $)": 2,
          "Film": "Insidious",
          "Genre": "Horror",
          "Rotten Tomatoes Ratings %": 67,
          "Year of release": 2008,
          "my_column": 55
         },
         {
          "Audience Ratings %": 90,
          "Budget (million $)": 15,
          "Film": "Into the Wild",
          "Genre": "Drama",
          "Rotten Tomatoes Ratings %": 82,
          "Year of release": 2007,
          "my_column": 80
         },
         {
          "Audience Ratings %": 91,
          "Budget (million $)": 186,
          "Film": "Iron Man",
          "Genre": "Action",
          "Rotten Tomatoes Ratings %": 94,
          "Year of release": 2008,
          "my_column": 81
         },
         {
          "Audience Ratings %": 80,
          "Budget (million $)": 200,
          "Film": "Iron Man 2",
          "Genre": "Action",
          "Rotten Tomatoes Ratings %": 74,
          "Year of release": 2010,
          "my_column": 70
         },
         {
          "Audience Ratings %": 63,
          "Budget (million $)": 85,
          "Film": "It's Complicated ",
          "Genre": "Comedy",
          "Rotten Tomatoes Ratings %": 56,
          "Year of release": 2009,
          "my_column": 53
         },
         {
          "Audience Ratings %": 84,
          "Budget (million $)": 35,
          "Film": "J.Edgar",
          "Genre": "Drama",
          "Rotten Tomatoes Ratings %": 42,
          "Year of release": 2011,
          "my_column": 74
         },
         {
          "Audience Ratings %": 59,
          "Budget (million $)": 79,
          "Film": "Jack and Jill",
          "Genre": "Comedy",
          "Rotten Tomatoes Ratings %": 4,
          "Year of release": 2011,
          "my_column": 49
         },
         {
          "Audience Ratings %": 77,
          "Budget (million $)": 0,
          "Film": "Jane Eyre",
          "Genre": "Romance",
          "Rotten Tomatoes Ratings %": 85,
          "Year of release": 2011,
          "my_column": 67
         },
         {
          "Audience Ratings %": 37,
          "Budget (million $)": 16,
          "Film": "Jennifer's Body ",
          "Genre": "Comedy",
          "Rotten Tomatoes Ratings %": 42,
          "Year of release": 2009,
          "my_column": 27
         },
         {
          "Audience Ratings %": 55,
          "Budget (million $)": 45,
          "Film": "Johnny English Reborn",
          "Genre": "Comedy",
          "Rotten Tomatoes Ratings %": 38,
          "Year of release": 2011,
          "my_column": 45
         },
         {
          "Audience Ratings %": 24,
          "Budget (million $)": 47,
          "Film": "Jonah Hex",
          "Genre": "Action",
          "Rotten Tomatoes Ratings %": 13,
          "Year of release": 2010,
          "my_column": 14
         },
         {
          "Audience Ratings %": 55,
          "Budget (million $)": 45,
          "Film": "Journey to the Center of the Earth",
          "Genre": "Action",
          "Rotten Tomatoes Ratings %": 61,
          "Year of release": 2008,
          "my_column": 45
         },
         {
          "Audience Ratings %": 50,
          "Budget (million $)": 83,
          "Film": "Jumper",
          "Genre": "Action",
          "Rotten Tomatoes Ratings %": 16,
          "Year of release": 2008,
          "my_column": 40
         },
         {
          "Audience Ratings %": 89,
          "Budget (million $)": 8,
          "Film": "Juno",
          "Genre": "Comedy",
          "Rotten Tomatoes Ratings %": 94,
          "Year of release": 2007,
          "my_column": 79
         },
         {
          "Audience Ratings %": 63,
          "Budget (million $)": 80,
          "Film": "Just Go With It",
          "Genre": "Romance",
          "Rotten Tomatoes Ratings %": 19,
          "Year of release": 2011,
          "my_column": 53
         },
         {
          "Audience Ratings %": 58,
          "Budget (million $)": 12,
          "Film": "Just Wright",
          "Genre": "Comedy",
          "Rotten Tomatoes Ratings %": 45,
          "Year of release": 2010,
          "my_column": 48
         },
         {
          "Audience Ratings %": 83,
          "Budget (million $)": 30,
          "Film": "Kick-Ass",
          "Genre": "Action",
          "Rotten Tomatoes Ratings %": 76,
          "Year of release": 2010,
          "my_column": 73
         },
         {
          "Audience Ratings %": 48,
          "Budget (million $)": 70,
          "Film": "Killer Elite",
          "Genre": "Action",
          "Rotten Tomatoes Ratings %": 25,
          "Year of release": 2011,
          "my_column": 38
         },
         {
          "Audience Ratings %": 45,
          "Budget (million $)": 75,
          "Film": "Killers",
          "Genre": "Action",
          "Rotten Tomatoes Ratings %": 11,
          "Year of release": 2010,
          "my_column": 35
         },
         {
          "Audience Ratings %": 26,
          "Budget (million $)": 10,
          "Film": "Kit Kittredge: An American Girl",
          "Genre": "Drama",
          "Rotten Tomatoes Ratings %": 78,
          "Year of release": 2008,
          "my_column": 16
         },
         {
          "Audience Ratings %": 52,
          "Budget (million $)": 117,
          "Film": "Knight and Day",
          "Genre": "Action",
          "Rotten Tomatoes Ratings %": 53,
          "Year of release": 2010,
          "my_column": 42
         },
         {
          "Audience Ratings %": 83,
          "Budget (million $)": 33,
          "Film": "Knocked Up",
          "Genre": "Comedy",
          "Rotten Tomatoes Ratings %": 91,
          "Year of release": 2007,
          "my_column": 73
         },
         {
          "Audience Ratings %": 50,
          "Budget (million $)": 50,
          "Film": "Knowing ",
          "Genre": "Drama",
          "Rotten Tomatoes Ratings %": 33,
          "Year of release": 2009,
          "my_column": 40
         },
         {
          "Audience Ratings %": 38,
          "Budget (million $)": 100,
          "Film": "Land of the Lost ",
          "Genre": "Drama",
          "Rotten Tomatoes Ratings %": 26,
          "Year of release": 2009,
          "my_column": 28
         },
         {
          "Audience Ratings %": 46,
          "Budget (million $)": 30,
          "Film": "Larry Crowne",
          "Genre": "Drama",
          "Rotten Tomatoes Ratings %": 34,
          "Year of release": 2011,
          "my_column": 36
         },
         {
          "Audience Ratings %": 49,
          "Budget (million $)": 19,
          "Film": "Leap Year",
          "Genre": "Comedy",
          "Rotten Tomatoes Ratings %": 21,
          "Year of release": 2010,
          "my_column": 39
         },
         {
          "Audience Ratings %": 41,
          "Budget (million $)": 58,
          "Film": "Leatherheads",
          "Genre": "Comedy",
          "Rotten Tomatoes Ratings %": 52,
          "Year of release": 2008,
          "my_column": 31
         },
         {
          "Audience Ratings %": 36,
          "Budget (million $)": 26,
          "Film": "Legion",
          "Genre": "Action",
          "Rotten Tomatoes Ratings %": 19,
          "Year of release": 2010,
          "my_column": 26
         },
         {
          "Audience Ratings %": 62,
          "Budget (million $)": 30,
          "Film": "Letters to Juliet",
          "Genre": "Comedy",
          "Rotten Tomatoes Ratings %": 40,
          "Year of release": 2010,
          "my_column": 52
         },
         {
          "Audience Ratings %": 55,
          "Budget (million $)": 35,
          "Film": "License to Wed",
          "Genre": "Comedy",
          "Rotten Tomatoes Ratings %": 8,
          "Year of release": 2007,
          "my_column": 45
         },
         {
          "Audience Ratings %": 62,
          "Budget (million $)": 38,
          "Film": "Life as We Know It",
          "Genre": "Comedy",
          "Rotten Tomatoes Ratings %": 28,
          "Year of release": 2010,
          "my_column": 52
         },
         {
          "Audience Ratings %": 73,
          "Budget (million $)": 27,
          "Film": "Limitless",
          "Genre": "Thriller",
          "Rotten Tomatoes Ratings %": 69,
          "Year of release": 2011,
          "my_column": 63
         },
         {
          "Audience Ratings %": 48,
          "Budget (million $)": 35,
          "Film": "Lions for Lambs",
          "Genre": "Drama",
          "Rotten Tomatoes Ratings %": 27,
          "Year of release": 2007,
          "my_column": 38
         },
         {
          "Audience Ratings %": 40,
          "Budget (million $)": 100,
          "Film": "Little Fockers",
          "Genre": "Comedy",
          "Rotten Tomatoes Ratings %": 9,
          "Year of release": 2010,
          "my_column": 30
         },
         {
          "Audience Ratings %": 86,
          "Budget (million $)": 110,
          "Film": "Live Free or Die Hard",
          "Genre": "Action",
          "Rotten Tomatoes Ratings %": 79,
          "Year of release": 2007,
          "my_column": 76
         },
         {
          "Audience Ratings %": 55,
          "Budget (million $)": 30,
          "Film": "Love & Other Drugs",
          "Genre": "Comedy",
          "Rotten Tomatoes Ratings %": 48,
          "Year of release": 2010,
          "my_column": 45
         },
         {
          "Audience Ratings %": 40,
          "Budget (million $)": 18,
          "Film": "Love Happens ",
          "Genre": "Drama",
          "Rotten Tomatoes Ratings %": 18,
          "Year of release": 2009,
          "my_column": 30
         },
         {
          "Audience Ratings %": 33,
          "Budget (million $)": 10,
          "Film": "MacGruber",
          "Genre": "Action",
          "Rotten Tomatoes Ratings %": 47,
          "Year of release": 2010,
          "my_column": 23
         },
         {
          "Audience Ratings %": 66,
          "Budget (million $)": 20,
          "Film": "Machete",
          "Genre": "Action",
          "Rotten Tomatoes Ratings %": 73,
          "Year of release": 2010,
          "my_column": 56
         },
         {
          "Audience Ratings %": 71,
          "Budget (million $)": 30,
          "Film": "Machine Gun Preacher",
          "Genre": "Action",
          "Rotten Tomatoes Ratings %": 29,
          "Year of release": 2011,
          "my_column": 61
         },
         {
          "Audience Ratings %": 51,
          "Budget (million $)": 22,
          "Film": "Mad Money",
          "Genre": "Comedy",
          "Rotten Tomatoes Ratings %": 22,
          "Year of release": 2008,
          "my_column": 41
         },
         {
          "Audience Ratings %": 61,
          "Budget (million $)": 40,
          "Film": "Made of Honor",
          "Genre": "Comedy",
          "Rotten Tomatoes Ratings %": 13,
          "Year of release": 2008,
          "my_column": 51
         },
         {
          "Audience Ratings %": 76,
          "Budget (million $)": 66,
          "Film": "Mamma Mia!",
          "Genre": "Comedy",
          "Rotten Tomatoes Ratings %": 53,
          "Year of release": 2008,
          "my_column": 66
         },
         {
          "Audience Ratings %": 73,
          "Budget (million $)": 4,
          "Film": "Margin Call",
          "Genre": "Thriller",
          "Rotten Tomatoes Ratings %": 86,
          "Year of release": 2011,
          "my_column": 63
         },
         {
          "Audience Ratings %": 77,
          "Budget (million $)": 55,
          "Film": "Marley and Me",
          "Genre": "Comedy",
          "Rotten Tomatoes Ratings %": 63,
          "Year of release": 2008,
          "my_column": 67
         },
         {
          "Audience Ratings %": 46,
          "Budget (million $)": 50,
          "Film": "Marmaduke",
          "Genre": "Comedy",
          "Rotten Tomatoes Ratings %": 9,
          "Year of release": 2010,
          "my_column": 36
         },
         {
          "Audience Ratings %": 36,
          "Budget (million $)": 35,
          "Film": "Max Payne",
          "Genre": "Action",
          "Rotten Tomatoes Ratings %": 16,
          "Year of release": 2008,
          "my_column": 26
         },
         {
          "Audience Ratings %": 42,
          "Budget (million $)": 60,
          "Film": "Meet Dave",
          "Genre": "Adventure",
          "Rotten Tomatoes Ratings %": 19,
          "Year of release": 2008,
          "my_column": 32
         },
         {
          "Audience Ratings %": 31,
          "Budget (million $)": 30,
          "Film": "Meet the Spartans",
          "Genre": "Comedy",
          "Rotten Tomatoes Ratings %": 2,
          "Year of release": 2008,
          "my_column": 21
         },
         {
          "Audience Ratings %": 72,
          "Budget (million $)": 25,
          "Film": "Michael Clayton",
          "Genre": "Thriller",
          "Rotten Tomatoes Ratings %": 90,
          "Year of release": 2007,
          "my_column": 62
         },
         {
          "Audience Ratings %": 84,
          "Budget (million $)": 17,
          "Film": "Midnight in Paris",
          "Genre": "Romance",
          "Rotten Tomatoes Ratings %": 93,
          "Year of release": 2011,
          "my_column": 74
         },
         {
          "Audience Ratings %": 68,
          "Budget (million $)": 45,
          "Film": "Miracle at St. Anna",
          "Genre": "Action",
          "Rotten Tomatoes Ratings %": 34,
          "Year of release": 2008,
          "my_column": 58
         },
         {
          "Audience Ratings %": 49,
          "Budget (million $)": 35,
          "Film": "Mirrors",
          "Genre": "Horror",
          "Rotten Tomatoes Ratings %": 14,
          "Year of release": 2008,
          "my_column": 39
         },
         {
          "Audience Ratings %": 70,
          "Budget (million $)": 60,
          "Film": "Miss Pettigrew Lives for a Day",
          "Genre": "Comedy",
          "Rotten Tomatoes Ratings %": 78,
          "Year of release": 2008,
          "my_column": 60
         },
         {
          "Audience Ratings %": 86,
          "Budget (million $)": 145,
          "Film": "Mission Impossible 4",
          "Genre": "Action",
          "Rotten Tomatoes Ratings %": 93,
          "Year of release": 2011,
          "my_column": 76
         },
         {
          "Audience Ratings %": 89,
          "Budget (million $)": 50,
          "Film": "Moneyball",
          "Genre": "Drama",
          "Rotten Tomatoes Ratings %": 95,
          "Year of release": 2011,
          "my_column": 79
         },
         {
          "Audience Ratings %": 50,
          "Budget (million $)": 20,
          "Film": "Monte Carlo",
          "Genre": "Romance",
          "Rotten Tomatoes Ratings %": 38,
          "Year of release": 2011,
          "my_column": 40
         },
         {
          "Audience Ratings %": 54,
          "Budget (million $)": 40,
          "Film": "Morning Glory",
          "Genre": "Comedy",
          "Rotten Tomatoes Ratings %": 54,
          "Year of release": 2010,
          "my_column": 44
         },
         {
          "Audience Ratings %": 61,
          "Budget (million $)": 7,
          "Film": "Mother and Child",
          "Genre": "Drama",
          "Rotten Tomatoes Ratings %": 79,
          "Year of release": 2009,
          "my_column": 51
         },
         {
          "Audience Ratings %": 75,
          "Budget (million $)": 20,
          "Film": "Mr. Brooks",
          "Genre": "Thriller",
          "Rotten Tomatoes Ratings %": 56,
          "Year of release": 2007,
          "my_column": 65
         },
         {
          "Audience Ratings %": 54,
          "Budget (million $)": 55,
          "Film": "Mr. Popper's Penguins",
          "Genre": "Comedy",
          "Rotten Tomatoes Ratings %": 47,
          "Year of release": 2011,
          "my_column": 44
         },
         {
          "Audience Ratings %": 70,
          "Budget (million $)": 40,
          "Film": "Music and Lyrics",
          "Genre": "Romance",
          "Rotten Tomatoes Ratings %": 63,
          "Year of release": 2007,
          "my_column": 60
         },
         {
          "Audience Ratings %": 51,
          "Budget (million $)": 20,
          "Film": "My Best Friend's Girl",
          "Genre": "Comedy",
          "Rotten Tomatoes Ratings %": 14,
          "Year of release": 2008,
          "my_column": 41
         },
         {
          "Audience Ratings %": 43,
          "Budget (million $)": 17,
          "Film": "My Life in Ruins ",
          "Genre": "Comedy",
          "Rotten Tomatoes Ratings %": 9,
          "Year of release": 2009,
          "my_column": 33
         },
         {
          "Audience Ratings %": 73,
          "Budget (million $)": 28,
          "Film": "My Sister's Keeper ",
          "Genre": "Drama",
          "Rotten Tomatoes Ratings %": 47,
          "Year of release": 2009,
          "my_column": 63
         },
         {
          "Audience Ratings %": 29,
          "Budget (million $)": 25,
          "Film": "My Soul to Take",
          "Genre": "Horror",
          "Rotten Tomatoes Ratings %": 9,
          "Year of release": 2010,
          "my_column": 19
         },
         {
          "Audience Ratings %": 84,
          "Budget (million $)": 10,
          "Film": "My Week with Marilyn",
          "Genre": "Drama",
          "Rotten Tomatoes Ratings %": 83,
          "Year of release": 2011,
          "my_column": 74
         },
         {
          "Audience Ratings %": 61,
          "Budget (million $)": 20,
          "Film": "Nancy Drew",
          "Genre": "Thriller",
          "Rotten Tomatoes Ratings %": 49,
          "Year of release": 2007,
          "my_column": 51
         },
         {
          "Audience Ratings %": 54,
          "Budget (million $)": 35,
          "Film": "Nanny McPhee Returns",
          "Genre": "Comedy",
          "Rotten Tomatoes Ratings %": 77,
          "Year of release": 2010,
          "my_column": 44
         },
         {
          "Audience Ratings %": 72,
          "Budget (million $)": 130,
          "Film": "National Treasure: Book of Secrets",
          "Genre": "Thriller",
          "Rotten Tomatoes Ratings %": 31,
          "Year of release": 2007,
          "my_column": 62
         },
         {
          "Audience Ratings %": 37,
          "Budget (million $)": 21,
          "Film": "Never Back Down",
          "Genre": "Action",
          "Rotten Tomatoes Ratings %": 23,
          "Year of release": 2008,
          "my_column": 27
         },
         {
          "Audience Ratings %": 70,
          "Budget (million $)": 15,
          "Film": "Never Let Me Go",
          "Genre": "Drama",
          "Rotten Tomatoes Ratings %": 70,
          "Year of release": 2010,
          "my_column": 60
         },
         {
          "Audience Ratings %": 48,
          "Budget (million $)": 56,
          "Film": "New Year's Eve",
          "Genre": "Romance",
          "Rotten Tomatoes Ratings %": 8,
          "Year of release": 2011,
          "my_column": 38
         },
         {
          "Audience Ratings %": 59,
          "Budget (million $)": 70,
          "Film": "Next",
          "Genre": "Thriller",
          "Rotten Tomatoes Ratings %": 29,
          "Year of release": 2007,
          "my_column": 49
         },
         {
          "Audience Ratings %": 27,
          "Budget (million $)": 3,
          "Film": "Next Day Air ",
          "Genre": "Action",
          "Rotten Tomatoes Ratings %": 21,
          "Year of release": 2009,
          "my_column": 17
         },
         {
          "Audience Ratings %": 67,
          "Budget (million $)": 10,
          "Film": "Nick and Norah's Infinite Playlist",
          "Genre": "Comedy",
          "Rotten Tomatoes Ratings %": 73,
          "Year of release": 2008,
          "my_column": 57
         },
         {
          "Audience Ratings %": 60,
          "Budget (million $)": 150,
          "Film": "Night at the Museum: Battle of the Smithsonian ",
          "Genre": "Action",
          "Rotten Tomatoes Ratings %": 43,
          "Year of release": 2009,
          "my_column": 50
         },
         {
          "Audience Ratings %": 56,
          "Budget (million $)": 30,
          "Film": "Nights in Rodanthe",
          "Genre": "Drama",
          "Rotten Tomatoes Ratings %": 31,
          "Year of release": 2008,
          "my_column": 46
         },
         {
          "Audience Ratings %": 50,
          "Budget (million $)": 37,
          "Film": "Nim's Island",
          "Genre": "Adventure",
          "Rotten Tomatoes Ratings %": 51,
          "Year of release": 2008,
          "my_column": 40
         },
         {
          "Audience Ratings %": 40,
          "Budget (million $)": 80,
          "Film": "Nine ",
          "Genre": "Drama",
          "Rotten Tomatoes Ratings %": 37,
          "Year of release": 2009,
          "my_column": 30
         },
         {
          "Audience Ratings %": 57,
          "Budget (million $)": 50,
          "Film": "Ninja Assassin ",
          "Genre": "Action",
          "Rotten Tomatoes Ratings %": 25,
          "Year of release": 2009,
          "my_column": 47
         },
         {
          "Audience Ratings %": 84,
          "Budget (million $)": 25,
          "Film": "No Country for Old Men",
          "Genre": "Drama",
          "Rotten Tomatoes Ratings %": 95,
          "Year of release": 2007,
          "my_column": 74
         },
         {
          "Audience Ratings %": 64,
          "Budget (million $)": 28,
          "Film": "No Reservations",
          "Genre": "Comedy",
          "Rotten Tomatoes Ratings %": 39,
          "Year of release": 2007,
          "my_column": 54
         },
         {
          "Audience Ratings %": 57,
          "Budget (million $)": 25,
          "Film": "No Strings Attached",
          "Genre": "Comedy",
          "Rotten Tomatoes Ratings %": 49,
          "Year of release": 2011,
          "my_column": 47
         },
         {
          "Audience Ratings %": 56,
          "Budget (million $)": 60,
          "Film": "Norbit",
          "Genre": "Comedy",
          "Rotten Tomatoes Ratings %": 9,
          "Year of release": 2007,
          "my_column": 46
         },
         {
          "Audience Ratings %": 66,
          "Budget (million $)": 5,
          "Film": "Not Easily Broken ",
          "Genre": "Drama",
          "Rotten Tomatoes Ratings %": 34,
          "Year of release": 2009,
          "my_column": 56
         },
         {
          "Audience Ratings %": 40,
          "Budget (million $)": 18,
          "Film": "Observe and Report ",
          "Genre": "Comedy",
          "Rotten Tomatoes Ratings %": 51,
          "Year of release": 2009,
          "my_column": 30
         },
         {
          "Audience Ratings %": 50,
          "Budget (million $)": 20,
          "Film": "Obsessed ",
          "Genre": "Drama",
          "Rotten Tomatoes Ratings %": 20,
          "Year of release": 2009,
          "my_column": 40
         },
         {
          "Audience Ratings %": 74,
          "Budget (million $)": 85,
          "Film": "Ocean's 13",
          "Genre": "Thriller",
          "Rotten Tomatoes Ratings %": 70,
          "Year of release": 2007,
          "my_column": 64
         },
         {
          "Audience Ratings %": 49,
          "Budget (million $)": 35,
          "Film": "Old Dogs ",
          "Genre": "Comedy",
          "Rotten Tomatoes Ratings %": 5,
          "Year of release": 2009,
          "my_column": 39
         },
         {
          "Audience Ratings %": 54,
          "Budget (million $)": 15,
          "Film": "One Day",
          "Genre": "Romance",
          "Rotten Tomatoes Ratings %": 37,
          "Year of release": 2011,
          "my_column": 44
         },
         {
          "Audience Ratings %": 36,
          "Budget (million $)": 20,
          "Film": "One Missed Call",
          "Genre": "Horror",
          "Rotten Tomatoes Ratings %": 0,
          "Year of release": 2008,
          "my_column": 26
         },
         {
          "Audience Ratings %": 65,
          "Budget (million $)": 30,
          "Film": "Orphan ",
          "Genre": "Horror",
          "Rotten Tomatoes Ratings %": 55,
          "Year of release": 2009,
          "my_column": 55
         },
         {
          "Audience Ratings %": 49,
          "Budget (million $)": 0,
          "Film": "Our Family Wedding",
          "Genre": "Comedy",
          "Rotten Tomatoes Ratings %": 14,
          "Year of release": 2010,
          "my_column": 39
         },
         {
          "Audience Ratings %": 79,
          "Budget (million $)": 5,
          "Film": "Our Idiot Brother",
          "Genre": "Comedy",
          "Rotten Tomatoes Ratings %": 68,
          "Year of release": 2011,
          "my_column": 69
         },
         {
          "Audience Ratings %": 47,
          "Budget (million $)": 10,
          "Film": "Over Her Dead Body",
          "Genre": "Comedy",
          "Rotten Tomatoes Ratings %": 15,
          "Year of release": 2008,
          "my_column": 37
         },
         {
          "Audience Ratings %": 82,
          "Budget (million $)": 30,
          "Film": "P.S. I Love You",
          "Genre": "Romance",
          "Rotten Tomatoes Ratings %": 21,
          "Year of release": 2007,
          "my_column": 72
         },
         {
          "Audience Ratings %": 49,
          "Budget (million $)": 40,
          "Film": "Pandorum ",
          "Genre": "Action",
          "Rotten Tomatoes Ratings %": 28,
          "Year of release": 2009,
          "my_column": 39
         },
         {
          "Audience Ratings %": 56,
          "Budget (million $)": 1,
          "Film": "Paranormal Activity ",
          "Genre": "Horror",
          "Rotten Tomatoes Ratings %": 82,
          "Year of release": 2007,
          "my_column": 46
         },
         {
          "Audience Ratings %": 0,
          "Budget (million $)": 3,
          "Film": "Paranormal Activity 2",
          "Genre": "Horror",
          "Rotten Tomatoes Ratings %": 0,
          "Year of release": 2010,
          "my_column": -10
         },
         {
          "Audience Ratings %": 58,
          "Budget (million $)": 5,
          "Film": "Paranormal Activity 3",
          "Genre": "Horror",
          "Rotten Tomatoes Ratings %": 68,
          "Year of release": 2011,
          "my_column": 48
         },
         {
          "Audience Ratings %": 41,
          "Budget (million $)": 26,
          "Film": "Pathfinder: Legend of the Ghost Warrior",
          "Genre": "Action",
          "Rotten Tomatoes Ratings %": 11,
          "Year of release": 2007,
          "my_column": 31
         },
         {
          "Audience Ratings %": 70,
          "Budget (million $)": 40,
          "Film": "Paul",
          "Genre": "Comedy",
          "Rotten Tomatoes Ratings %": 72,
          "Year of release": 2011,
          "my_column": 60
         },
         {
          "Audience Ratings %": 50,
          "Budget (million $)": 26,
          "Film": "Paul Blart: Mall Cop ",
          "Genre": "Action",
          "Rotten Tomatoes Ratings %": 33,
          "Year of release": 2009,
          "my_column": 40
         },
         {
          "Audience Ratings %": 74,
          "Budget (million $)": 15,
          "Film": "Penelope",
          "Genre": "Comedy",
          "Rotten Tomatoes Ratings %": 52,
          "Year of release": 2008,
          "my_column": 64
         },
         {
          "Audience Ratings %": 57,
          "Budget (million $)": 95,
          "Film": "Percy Jackson & the Olympians: The Lightning Thief",
          "Genre": "Action",
          "Rotten Tomatoes Ratings %": 50,
          "Year of release": 2010,
          "my_column": 47
         },
         {
          "Audience Ratings %": 74,
          "Budget (million $)": 26,
          "Film": "Pineapple Express",
          "Genre": "Action",
          "Rotten Tomatoes Ratings %": 68,
          "Year of release": 2008,
          "my_column": 64
         },
         {
          "Audience Ratings %": 45,
          "Budget (million $)": 24,
          "Film": "Piranha 3-D",
          "Genre": "Comedy",
          "Rotten Tomatoes Ratings %": 74,
          "Year of release": 2010,
          "my_column": 35
         },
         {
          "Audience Ratings %": 72,
          "Budget (million $)": 50,
          "Film": "Pirate Radio (The Boat that Rocked, UK)",
          "Genre": "Comedy",
          "Rotten Tomatoes Ratings %": 60,
          "Year of release": 2009,
          "my_column": 62
         },
         {
          "Audience Ratings %": 61,
          "Budget (million $)": 250,
          "Film": "Pirates of the Caribbean: On Stranger Tides",
          "Genre": "Action",
          "Rotten Tomatoes Ratings %": 34,
          "Year of release": 2011,
          "my_column": 51
         },
         {
          "Audience Ratings %": 74,
          "Budget (million $)": 300,
          "Film": "Pirates of the Caribbean: At World's End",
          "Genre": "Action",
          "Rotten Tomatoes Ratings %": 45,
          "Year of release": 2007,
          "my_column": 64
         },
         {
          "Audience Ratings %": 62,
          "Budget (million $)": 3,
          "Film": "Please Give",
          "Genre": "Comedy",
          "Rotten Tomatoes Ratings %": 88,
          "Year of release": 2010,
          "my_column": 52
         },
         {
          "Audience Ratings %": 31,
          "Budget (million $)": 15,
          "Film": "Post Grad ",
          "Genre": "Comedy",
          "Rotten Tomatoes Ratings %": 7,
          "Year of release": 2009,
          "my_column": 21
         },
         {
          "Audience Ratings %": 52,
          "Budget (million $)": 40,
          "Film": "Predators",
          "Genre": "Action",
          "Rotten Tomatoes Ratings %": 64,
          "Year of release": 2010,
          "my_column": 42
         },
         {
          "Audience Ratings %": 55,
          "Budget (million $)": 20,
          "Film": "Premonition",
          "Genre": "Drama",
          "Rotten Tomatoes Ratings %": 8,
          "Year of release": 2007,
          "my_column": 45
         },
         {
          "Audience Ratings %": 37,
          "Budget (million $)": 60,
          "Film": "Priest",
          "Genre": "Action",
          "Rotten Tomatoes Ratings %": 17,
          "Year of release": 2011,
          "my_column": 27
         },
         {
          "Audience Ratings %": 71,
          "Budget (million $)": 200,
          "Film": "Prince of Persia: The Sands of Time",
          "Genre": "Action",
          "Rotten Tomatoes Ratings %": 36,
          "Year of release": 2010,
          "my_column": 61
         },
         {
          "Audience Ratings %": 46,
          "Budget (million $)": 18,
          "Film": "Prom Night",
          "Genre": "Horror",
          "Rotten Tomatoes Ratings %": 8,
          "Year of release": 2008,
          "my_column": 36
         },
         {
          "Audience Ratings %": 47,
          "Budget (million $)": 35,
          "Film": "Punisher: War Zone",
          "Genre": "Action",
          "Rotten Tomatoes Ratings %": 27,
          "Year of release": 2008,
          "my_column": 37
         },
         {
          "Audience Ratings %": 47,
          "Budget (million $)": 38,
          "Film": "Push ",
          "Genre": "Action",
          "Rotten Tomatoes Ratings %": 22,
          "Year of release": 2009,
          "my_column": 37
         },
         {
          "Audience Ratings %": 62,
          "Budget (million $)": 230,
          "Film": "Quantum of Solace",
          "Genre": "Action",
          "Rotten Tomatoes Ratings %": 64,
          "Year of release": 2008,
          "my_column": 52
         },
         {
          "Audience Ratings %": 46,
          "Budget (million $)": 12,
          "Film": "Quarantine",
          "Genre": "Horror",
          "Rotten Tomatoes Ratings %": 59,
          "Year of release": 2008,
          "my_column": 36
         },
         {
          "Audience Ratings %": 50,
          "Budget (million $)": 50,
          "Film": "Race to Witch Mountain ",
          "Genre": "Action",
          "Rotten Tomatoes Ratings %": 42,
          "Year of release": 2009,
          "my_column": 40
         },
         {
          "Audience Ratings %": 61,
          "Budget (million $)": 12,
          "Film": "Rachel Getting Married",
          "Genre": "Drama",
          "Rotten Tomatoes Ratings %": 85,
          "Year of release": 2008,
          "my_column": 51
         },
         {
          "Audience Ratings %": 70,
          "Budget (million $)": 48,
          "Film": "Rambo",
          "Genre": "Action",
          "Rotten Tomatoes Ratings %": 36,
          "Year of release": 2008,
          "my_column": 60
         },
         {
          "Audience Ratings %": 81,
          "Budget (million $)": 110,
          "Film": "Real Steel",
          "Genre": "Action",
          "Rotten Tomatoes Ratings %": 58,
          "Year of release": 2011,
          "my_column": 71
         },
         {
          "Audience Ratings %": 72,
          "Budget (million $)": 58,
          "Film": "Red",
          "Genre": "Action",
          "Rotten Tomatoes Ratings %": 71,
          "Year of release": 2010,
          "my_column": 62
         },
         {
          "Audience Ratings %": 41,
          "Budget (million $)": 42,
          "Film": "Red Riding Hood",
          "Genre": "Horror",
          "Rotten Tomatoes Ratings %": 11,
          "Year of release": 2011,
          "my_column": 31
         },
         {
          "Audience Ratings %": 59,
          "Budget (million $)": 4,
          "Film": "Red State",
          "Genre": "Horror",
          "Rotten Tomatoes Ratings %": 57,
          "Year of release": 2011,
          "my_column": 49
         },
         {
          "Audience Ratings %": 70,
          "Budget (million $)": 16,
          "Film": "Remember Me",
          "Genre": "Drama",
          "Rotten Tomatoes Ratings %": 28,
          "Year of release": 2010,
          "my_column": 60
         },
         {
          "Audience Ratings %": 43,
          "Budget (million $)": 32,
          "Film": "Repo Men",
          "Genre": "Action",
          "Rotten Tomatoes Ratings %": 22,
          "Year of release": 2010,
          "my_column": 33
         },
         {
          "Audience Ratings %": 53,
          "Budget (million $)": 60,
          "Film": "Resident Evil: Afterlife",
          "Genre": "Action",
          "Rotten Tomatoes Ratings %": 24,
          "Year of release": 2010,
          "my_column": 43
         },
         {
          "Audience Ratings %": 87,
          "Budget (million $)": 93,
          "Film": "Rise of the Planet of the Apes",
          "Genre": "Action",
          "Rotten Tomatoes Ratings %": 83,
          "Year of release": 2011,
          "my_column": 77
         },
         {
          "Audience Ratings %": 59,
          "Budget (million $)": 200,
          "Film": "Robin Hood",
          "Genre": "Action",
          "Rotten Tomatoes Ratings %": 42,
          "Year of release": 2010,
          "my_column": 49
         },
         {
          "Audience Ratings %": 75,
          "Budget (million $)": 28,
          "Film": "Role Models",
          "Genre": "Comedy",
          "Rotten Tomatoes Ratings %": 77,
          "Year of release": 2008,
          "my_column": 65
         },
         {
          "Audience Ratings %": 68,
          "Budget (million $)": 140,
          "Film": "Rush Hour 3",
          "Genre": "Action",
          "Rotten Tomatoes Ratings %": 20,
          "Year of release": 2007,
          "my_column": 58
         },
         {
          "Audience Ratings %": 62,
          "Budget (million $)": 110,
          "Film": "Salt",
          "Genre": "Action",
          "Rotten Tomatoes Ratings %": 62,
          "Year of release": 2010,
          "my_column": 52
         },
         {
          "Audience Ratings %": 39,
          "Budget (million $)": 30,
          "Film": "Sanctum",
          "Genre": "Action",
          "Rotten Tomatoes Ratings %": 30,
          "Year of release": 2011,
          "my_column": 29
         },
         {
          "Audience Ratings %": 70,
          "Budget (million $)": 10,
          "Film": "Saw IV",
          "Genre": "Horror",
          "Rotten Tomatoes Ratings %": 18,
          "Year of release": 2007,
          "my_column": 60
         },
         {
          "Audience Ratings %": 67,
          "Budget (million $)": 11,
          "Film": "Saw VI ",
          "Genre": "Horror",
          "Rotten Tomatoes Ratings %": 40,
          "Year of release": 2009,
          "my_column": 57
         },
         {
          "Audience Ratings %": 83,
          "Budget (million $)": 60,
          "Film": "Scott Pilgrim vs. the World",
          "Genre": "Action",
          "Rotten Tomatoes Ratings %": 81,
          "Year of release": 2010,
          "my_column": 73
         },
         {
          "Audience Ratings %": 57,
          "Budget (million $)": 40,
          "Film": "Scream 4",
          "Genre": "Horror",
          "Rotten Tomatoes Ratings %": 58,
          "Year of release": 2011,
          "my_column": 47
         },
         {
          "Audience Ratings %": 32,
          "Budget (million $)": 40,
          "Film": "Season Of The Witch",
          "Genre": "Action",
          "Rotten Tomatoes Ratings %": 10,
          "Year of release": 2011,
          "my_column": 22
         },
         {
          "Audience Ratings %": 41,
          "Budget (million $)": 3,
          "Film": "Semi-Pro",
          "Genre": "Comedy",
          "Rotten Tomatoes Ratings %": 21,
          "Year of release": 2008,
          "my_column": 31
         },
         {
          "Audience Ratings %": 77,
          "Budget (million $)": 55,
          "Film": "Seven Pounds",
          "Genre": "Drama",
          "Rotten Tomatoes Ratings %": 27,
          "Year of release": 2008,
          "my_column": 67
         },
         {
          "Audience Ratings %": 81,
          "Budget (million $)": 58,
          "Film": "Sex and the City",
          "Genre": "Comedy",
          "Rotten Tomatoes Ratings %": 49,
          "Year of release": 2008,
          "my_column": 71
         },
         {
          "Audience Ratings %": 49,
          "Budget (million $)": 100,
          "Film": "Sex and the City 2",
          "Genre": "Comedy",
          "Rotten Tomatoes Ratings %": 15,
          "Year of release": 2010,
          "my_column": 39
         },
         {
          "Audience Ratings %": 61,
          "Budget (million $)": 19,
          "Film": "Sex Drive",
          "Genre": "Adventure",
          "Rotten Tomatoes Ratings %": 46,
          "Year of release": 2008,
          "my_column": 51
         },
         {
          "Audience Ratings %": 80,
          "Budget (million $)": 7,
          "Film": "Shame",
          "Genre": "Drama",
          "Rotten Tomatoes Ratings %": 80,
          "Year of release": 2011,
          "my_column": 70
         },
         {
          "Audience Ratings %": 25,
          "Budget (million $)": 25,
          "Film": "Shark Night 3D",
          "Genre": "Horror",
          "Rotten Tomatoes Ratings %": 16,
          "Year of release": 2011,
          "my_column": 15
         },
         {
          "Audience Ratings %": 60,
          "Budget (million $)": 20,
          "Film": "She's Out of My League",
          "Genre": "Comedy",
          "Rotten Tomatoes Ratings %": 57,
          "Year of release": 2010,
          "my_column": 50
         },
         {
          "Audience Ratings %": 81,
          "Budget (million $)": 90,
          "Film": "Sherlock Holmes ",
          "Genre": "Action",
          "Rotten Tomatoes Ratings %": 70,
          "Year of release": 2009,
          "my_column": 71
         },
         {
          "Audience Ratings %": 79,
          "Budget (million $)": 125,
          "Film": "Sherlock Holmes 2",
          "Genre": "Action",
          "Rotten Tomatoes Ratings %": 60,
          "Year of release": 2011,
          "my_column": 69
         },
         {
          "Audience Ratings %": 66,
          "Budget (million $)": 39,
          "Film": "Shoot 'Em Up",
          "Genre": "Action",
          "Rotten Tomatoes Ratings %": 67,
          "Year of release": 2007,
          "my_column": 56
         },
         {
          "Audience Ratings %": 82,
          "Budget (million $)": 61,
          "Film": "Shooter",
          "Genre": "Action",
          "Rotten Tomatoes Ratings %": 47,
          "Year of release": 2007,
          "my_column": 72
         },
         {
          "Audience Ratings %": 40,
          "Budget (million $)": 8,
          "Film": "Shutter",
          "Genre": "Horror",
          "Rotten Tomatoes Ratings %": 7,
          "Year of release": 2008,
          "my_column": 30
         },
         {
          "Audience Ratings %": 73,
          "Budget (million $)": 80,
          "Film": "Shutter Island",
          "Genre": "Drama",
          "Rotten Tomatoes Ratings %": 68,
          "Year of release": 2010,
          "my_column": 63
         },
         {
          "Audience Ratings %": 19,
          "Budget (million $)": 10,
          "Film": "Skyline",
          "Genre": "Action",
          "Rotten Tomatoes Ratings %": 16,
          "Year of release": 2010,
          "my_column": 9
         },
         {
          "Audience Ratings %": 41,
          "Budget (million $)": 7,
          "Film": "Smart People",
          "Genre": "Comedy",
          "Rotten Tomatoes Ratings %": 50,
          "Year of release": 2008,
          "my_column": 31
         },
         {
          "Audience Ratings %": 47,
          "Budget (million $)": 15,
          "Film": "Solitary Man",
          "Genre": "Comedy",
          "Rotten Tomatoes Ratings %": 81,
          "Year of release": 2009,
          "my_column": 37
         },
         {
          "Audience Ratings %": 0,
          "Budget (million $)": 35,
          "Film": "Something Borrowed",
          "Genre": "Romance",
          "Rotten Tomatoes Ratings %": 0,
          "Year of release": 2011,
          "my_column": -10
         },
         {
          "Audience Ratings %": 38,
          "Budget (million $)": 13,
          "Film": "Sorority Row ",
          "Genre": "Horror",
          "Rotten Tomatoes Ratings %": 22,
          "Year of release": 2009,
          "my_column": 28
         },
         {
          "Audience Ratings %": 42,
          "Budget (million $)": 0,
          "Film": "Soul Men",
          "Genre": "Comedy",
          "Rotten Tomatoes Ratings %": 45,
          "Year of release": 2008,
          "my_column": 32
         },
         {
          "Audience Ratings %": 79,
          "Budget (million $)": 18,
          "Film": "Soul Surfer",
          "Genre": "Drama",
          "Rotten Tomatoes Ratings %": 46,
          "Year of release": 2011,
          "my_column": 69
         },
         {
          "Audience Ratings %": 81,
          "Budget (million $)": 32,
          "Film": "Source Code",
          "Genre": "Thriller",
          "Rotten Tomatoes Ratings %": 92,
          "Year of release": 2011,
          "my_column": 71
         },
         {
          "Audience Ratings %": 61,
          "Budget (million $)": 120,
          "Film": "Speed Racer",
          "Genre": "Action",
          "Rotten Tomatoes Ratings %": 38,
          "Year of release": 2008,
          "my_column": 51
         },
         {
          "Audience Ratings %": 54,
          "Budget (million $)": 258,
          "Film": "Spider-Man 3",
          "Genre": "Action",
          "Rotten Tomatoes Ratings %": 61,
          "Year of release": 2007,
          "my_column": 44
         },
         {
          "Audience Ratings %": 40,
          "Budget (million $)": 27,
          "Film": "Spy Kids: All The Time in the World",
          "Genre": "Action",
          "Rotten Tomatoes Ratings %": 22,
          "Year of release": 2011,
          "my_column": 30
         },
         {
          "Audience Ratings %": 91,
          "Budget (million $)": 140,
          "Film": "Star Trek ",
          "Genre": "Action",
          "Rotten Tomatoes Ratings %": 94,
          "Year of release": 2009,
          "my_column": 81
         },
         {
          "Audience Ratings %": 86,
          "Budget (million $)": 70,
          "Film": "Stardust",
          "Genre": "Adventure",
          "Rotten Tomatoes Ratings %": 76,
          "Year of release": 2007,
          "my_column": 76
         },
         {
          "Audience Ratings %": 68,
          "Budget (million $)": 65,
          "Film": "Step Brothers",
          "Genre": "Comedy",
          "Rotten Tomatoes Ratings %": 54,
          "Year of release": 2008,
          "my_column": 58
         },
         {
          "Audience Ratings %": 81,
          "Budget (million $)": 18,
          "Film": "Step Up 2: The Streets",
          "Genre": "Drama",
          "Rotten Tomatoes Ratings %": 26,
          "Year of release": 2008,
          "my_column": 71
         },
         {
          "Audience Ratings %": 67,
          "Budget (million $)": 30,
          "Film": "Step Up 3D",
          "Genre": "Drama",
          "Rotten Tomatoes Ratings %": 46,
          "Year of release": 2010,
          "my_column": 57
         },
         {
          "Audience Ratings %": 20,
          "Budget (million $)": 22,
          "Film": "Stone",
          "Genre": "Drama",
          "Rotten Tomatoes Ratings %": 49,
          "Year of release": 2010,
          "my_column": 10
         },
         {
          "Audience Ratings %": 27,
          "Budget (million $)": 25,
          "Film": "Stop-Loss",
          "Genre": "Drama",
          "Rotten Tomatoes Ratings %": 65,
          "Year of release": 2008,
          "my_column": 17
         },
         {
          "Audience Ratings %": 28,
          "Budget (million $)": 50,
          "Film": "Street Fighter: The Legend of Chun-Li ",
          "Genre": "Action",
          "Rotten Tomatoes Ratings %": 16,
          "Year of release": 2009,
          "my_column": 18
         },
         {
          "Audience Ratings %": 62,
          "Budget (million $)": 20,
          "Film": "Street Kings",
          "Genre": "Action",
          "Rotten Tomatoes Ratings %": 37,
          "Year of release": 2008,
          "my_column": 52
         },
         {
          "Audience Ratings %": 48,
          "Budget (million $)": 82,
          "Film": "Sucker Punch",
          "Genre": "Action",
          "Rotten Tomatoes Ratings %": 23,
          "Year of release": 2011,
          "my_column": 38
         },
         {
          "Audience Ratings %": 59,
          "Budget (million $)": 5,
          "Film": "Sunshine Cleaning ",
          "Genre": "Comedy",
          "Rotten Tomatoes Ratings %": 72,
          "Year of release": 2008,
          "my_column": 49
         },
         {
          "Audience Ratings %": 78,
          "Budget (million $)": 50,
          "Film": "Super 8 ",
          "Genre": "Horror",
          "Rotten Tomatoes Ratings %": 82,
          "Year of release": 2011,
          "my_column": 68
         },
         {
          "Audience Ratings %": 87,
          "Budget (million $)": 20,
          "Film": "Superbad",
          "Genre": "Comedy",
          "Rotten Tomatoes Ratings %": 88,
          "Year of release": 2007,
          "my_column": 77
         },
         {
          "Audience Ratings %": 36,
          "Budget (million $)": 65,
          "Film": "Superhero Movie",
          "Genre": "Comedy",
          "Rotten Tomatoes Ratings %": 15,
          "Year of release": 2008,
          "my_column": 26
         },
         {
          "Audience Ratings %": 42,
          "Budget (million $)": 80,
          "Film": "Surrogates ",
          "Genre": "Action",
          "Rotten Tomatoes Ratings %": 39,
          "Year of release": 2009,
          "my_column": 32
         },
         {
          "Audience Ratings %": 44,
          "Budget (million $)": 20,
          "Film": "Swing Vote",
          "Genre": "Comedy",
          "Rotten Tomatoes Ratings %": 36,
          "Year of release": 2008,
          "my_column": 34
         },
         {
          "Audience Ratings %": 46,
          "Budget (million $)": 25,
          "Film": "Take Me Home Tonight",
          "Genre": "Comedy",
          "Rotten Tomatoes Ratings %": 28,
          "Year of release": 2011,
          "my_column": 36
         },
         {
          "Audience Ratings %": 85,
          "Budget (million $)": 5,
          "Film": "Take Shelter",
          "Genre": "Drama",
          "Rotten Tomatoes Ratings %": 92,
          "Year of release": 2011,
          "my_column": 75
         },
         {
          "Audience Ratings %": 83,
          "Budget (million $)": 25,
          "Film": "Taken ",
          "Genre": "Action",
          "Rotten Tomatoes Ratings %": 58,
          "Year of release": 2008,
          "my_column": 73
         },
         {
          "Audience Ratings %": 57,
          "Budget (million $)": 32,
          "Film": "Takers",
          "Genre": "Action",
          "Rotten Tomatoes Ratings %": 27,
          "Year of release": 2010,
          "my_column": 47
         },
         {
          "Audience Ratings %": 48,
          "Budget (million $)": 29,
          "Film": "Taking Woodstock ",
          "Genre": "Comedy",
          "Rotten Tomatoes Ratings %": 48,
          "Year of release": 2009,
          "my_column": 38
         },
         {
          "Audience Ratings %": 64,
          "Budget (million $)": 200,
          "Film": "Terminator Salvation ",
          "Genre": "Action",
          "Rotten Tomatoes Ratings %": 33,
          "Year of release": 2009,
          "my_column": 54
         },
         {
          "Audience Ratings %": 71,
          "Budget (million $)": 100,
          "Film": "The A-Team",
          "Genre": "Action",
          "Rotten Tomatoes Ratings %": 47,
          "Year of release": 2010,
          "my_column": 61
         },
         {
          "Audience Ratings %": 67,
          "Budget (million $)": 51,
          "Film": "The Adjustment Bureau",
          "Genre": "Thriller",
          "Rotten Tomatoes Ratings %": 72,
          "Year of release": 2011,
          "my_column": 57
         },
         {
          "Audience Ratings %": 78,
          "Budget (million $)": 130,
          "Film": "The Adventures of Tintin",
          "Genre": "Adventure",
          "Rotten Tomatoes Ratings %": 74,
          "Year of release": 2011,
          "my_column": 68
         },
         {
          "Audience Ratings %": 91,
          "Budget (million $)": 16,
          "Film": "The Artist",
          "Genre": "Drama",
          "Rotten Tomatoes Ratings %": 97,
          "Year of release": 2011,
          "my_column": 81
         },
         {
          "Audience Ratings %": 47,
          "Budget (million $)": 35,
          "Film": "The Back-up Plan",
          "Genre": "Comedy",
          "Rotten Tomatoes Ratings %": 20,
          "Year of release": 2010,
          "my_column": 37
         },
         {
          "Audience Ratings %": 74,
          "Budget (million $)": 20,
          "Film": "The Bank Job",
          "Genre": "Thriller",
          "Rotten Tomatoes Ratings %": 78,
          "Year of release": 2008,
          "my_column": 64
         },
         {
          "Audience Ratings %": 57,
          "Budget (million $)": 21,
          "Film": "The Beaver",
          "Genre": "Drama",
          "Rotten Tomatoes Ratings %": 62,
          "Year of release": 2011,
          "my_column": 47
         },
         {
          "Audience Ratings %": 62,
          "Budget (million $)": 41,
          "Film": "The Big Year",
          "Genre": "Comedy",
          "Rotten Tomatoes Ratings %": 38,
          "Year of release": 2011,
          "my_column": 52
         },
         {
          "Audience Ratings %": 68,
          "Budget (million $)": 80,
          "Film": "The Book of Eli        ",
          "Genre": "Action",
          "Rotten Tomatoes Ratings %": 48,
          "Year of release": 2010,
          "my_column": 58
         },
         {
          "Audience Ratings %": 41,
          "Budget (million $)": 40,
          "Film": "The Bounty Hunter",
          "Genre": "Action",
          "Rotten Tomatoes Ratings %": 7,
          "Year of release": 2010,
          "my_column": 31
         },
         {
          "Audience Ratings %": 91,
          "Budget (million $)": 110,
          "Film": "The Bourne Ultimatum",
          "Genre": "Thriller",
          "Rotten Tomatoes Ratings %": 93,
          "Year of release": 2007,
          "my_column": 81
         },
         {
          "Audience Ratings %": 27,
          "Budget (million $)": 30,
          "Film": "The Box ",
          "Genre": "Drama",
          "Rotten Tomatoes Ratings %": 46,
          "Year of release": 2009,
          "my_column": 17
         },
         {
          "Audience Ratings %": 84,
          "Budget (million $)": 13,
          "Film": "The Boy in the Striped Pyjamas",
          "Genre": "Drama",
          "Rotten Tomatoes Ratings %": 63,
          "Year of release": 2008,
          "my_column": 74
         },
         {
          "Audience Ratings %": 65,
          "Budget (million $)": 70,
          "Film": "The Brave One",
          "Genre": "Action",
          "Rotten Tomatoes Ratings %": 43,
          "Year of release": 2007,
          "my_column": 55
         },
         {
          "Audience Ratings %": 81,
          "Budget (million $)": 45,
          "Film": "The Bucket List",
          "Genre": "Drama",
          "Rotten Tomatoes Ratings %": 41,
          "Year of release": 2007,
          "my_column": 71
         },
         {
          "Audience Ratings %": 53,
          "Budget (million $)": 52,
          "Film": "The Change Up",
          "Genre": "Comedy",
          "Rotten Tomatoes Ratings %": 24,
          "Year of release": 2011,
          "my_column": 43
         },
         {
          "Audience Ratings %": 78,
          "Budget (million $)": 200,
          "Film": "The Chronicles of Narnia: Prince Caspian",
          "Genre": "Action",
          "Rotten Tomatoes Ratings %": 66,
          "Year of release": 2008,
          "my_column": 68
         },
         {
          "Audience Ratings %": 63,
          "Budget (million $)": 155,
          "Film": "The Chronicles of Narnia: The Voyage of the Dawn Treader",
          "Genre": "Adventure",
          "Rotten Tomatoes Ratings %": 49,
          "Year of release": 2010,
          "my_column": 53
         },
         {
          "Audience Ratings %": 55,
          "Budget (million $)": 15,
          "Film": "The Company Men",
          "Genre": "Drama",
          "Rotten Tomatoes Ratings %": 66,
          "Year of release": 2010,
          "my_column": 45
         },
         {
          "Audience Ratings %": 65,
          "Budget (million $)": 25,
          "Film": "The Conspirator",
          "Genre": "Drama",
          "Rotten Tomatoes Ratings %": 56,
          "Year of release": 2010,
          "my_column": 55
         },
         {
          "Audience Ratings %": 54,
          "Budget (million $)": 20,
          "Film": "The Crazies",
          "Genre": "Horror",
          "Rotten Tomatoes Ratings %": 72,
          "Year of release": 2010,
          "my_column": 44
         },
         {
          "Audience Ratings %": 79,
          "Budget (million $)": 18,
          "Film": "The Darjeeling Limited",
          "Genre": "Drama",
          "Rotten Tomatoes Ratings %": 67,
          "Year of release": 2007,
          "my_column": 69
         },
         {
          "Audience Ratings %": 96,
          "Budget (million $)": 185,
          "Film": "The Dark Knight",
          "Genre": "Thriller",
          "Rotten Tomatoes Ratings %": 94,
          "Year of release": 2008,
          "my_column": 86
         },
         {
          "Audience Ratings %": 34,
          "Budget (million $)": 100,
          "Film": "The Day the Earth Stood Still ",
          "Genre": "Thriller",
          "Rotten Tomatoes Ratings %": 19,
          "Year of release": 2008,
          "my_column": 24
         },
         {
          "Audience Ratings %": 70,
          "Budget (million $)": 20,
          "Film": "The Debt",
          "Genre": "Thriller",
          "Rotten Tomatoes Ratings %": 76,
          "Year of release": 2010,
          "my_column": 60
         },
         {
          "Audience Ratings %": 88,
          "Budget (million $)": 20,
          "Film": "The Descendants",
          "Genre": "Drama",
          "Rotten Tomatoes Ratings %": 89,
          "Year of release": 2011,
          "my_column": 78
         },
         {
          "Audience Ratings %": 31,
          "Budget (million $)": 70,
          "Film": "The Dilemma",
          "Genre": "Comedy",
          "Rotten Tomatoes Ratings %": 23,
          "Year of release": 2011,
          "my_column": 21
         },
         {
          "Audience Ratings %": 68,
          "Budget (million $)": 14,
          "Film": "The Duchess",
          "Genre": "Drama",
          "Rotten Tomatoes Ratings %": 60,
          "Year of release": 2008,
          "my_column": 58
         },
         {
          "Audience Ratings %": 43,
          "Budget (million $)": 25,
          "Film": "The Eagle",
          "Genre": "Action",
          "Rotten Tomatoes Ratings %": 39,
          "Year of release": 2011,
          "my_column": 33
         },
         {
          "Audience Ratings %": 58,
          "Budget (million $)": 82,
          "Film": "The Expendables",
          "Genre": "Action",
          "Rotten Tomatoes Ratings %": 40,
          "Year of release": 2010,
          "my_column": 48
         },
         {
          "Audience Ratings %": 51,
          "Budget (million $)": 12,
          "Film": "The Eye",
          "Genre": "Horror",
          "Rotten Tomatoes Ratings %": 22,
          "Year of release": 2008,
          "my_column": 41
         },
         {
          "Audience Ratings %": 88,
          "Budget (million $)": 25,
          "Film": "The Fighter",
          "Genre": "Drama",
          "Rotten Tomatoes Ratings %": 91,
          "Year of release": 2010,
          "my_column": 78
         },
         {
          "Audience Ratings %": 52,
          "Budget (million $)": 40,
          "Film": "The Final Destination ",
          "Genre": "Horror",
          "Rotten Tomatoes Ratings %": 29,
          "Year of release": 2009,
          "my_column": 42
         },
         {
          "Audience Ratings %": 65,
          "Budget (million $)": 55,
          "Film": "The Forbidden Kingdom",
          "Genre": "Action",
          "Rotten Tomatoes Ratings %": 64,
          "Year of release": 2008,
          "my_column": 55
         },
         {
          "Audience Ratings %": 75,
          "Budget (million $)": 22,
          "Film": "The Game Plan",
          "Genre": "Comedy",
          "Rotten Tomatoes Ratings %": 27,
          "Year of release": 2007,
          "my_column": 65
         },
         {
          "Audience Ratings %": 89,
          "Budget (million $)": 90,
          "Film": "The Girl With The Dragon Tattoo",
          "Genre": "Thriller",
          "Rotten Tomatoes Ratings %": 87,
          "Year of release": 2011,
          "my_column": 79
         },
         {
          "Audience Ratings %": 55,
          "Budget (million $)": 180,
          "Film": "The Golden Compass",
          "Genre": "Action",
          "Rotten Tomatoes Ratings %": 42,
          "Year of release": 2007,
          "my_column": 45
         },
         {
          "Audience Ratings %": 47,
          "Budget (million $)": 120,
          "Film": "The Green Hornet",
          "Genre": "Action",
          "Rotten Tomatoes Ratings %": 44,
          "Year of release": 2011,
          "my_column": 37
         },
         {
          "Audience Ratings %": 87,
          "Budget (million $)": 35,
          "Film": "The Hangover ",
          "Genre": "Comedy",
          "Rotten Tomatoes Ratings %": 79,
          "Year of release": 2009,
          "my_column": 77
         },
         {
          "Audience Ratings %": 58,
          "Budget (million $)": 80,
          "Film": "The Hangover Part II",
          "Genre": "Comedy",
          "Rotten Tomatoes Ratings %": 35,
          "Year of release": 2011,
          "my_column": 48
         },
         {
          "Audience Ratings %": 29,
          "Budget (million $)": 48,
          "Film": "The Happening",
          "Genre": "Thriller",
          "Rotten Tomatoes Ratings %": 19,
          "Year of release": 2008,
          "my_column": 19
         },
         {
          "Audience Ratings %": 51,
          "Budget (million $)": 30,
          "Film": "The Haunting in Connecticut ",
          "Genre": "Drama",
          "Rotten Tomatoes Ratings %": 17,
          "Year of release": 2009,
          "my_column": 41
         },
         {
          "Audience Ratings %": 22,
          "Budget (million $)": 5,
          "Film": "The Haunting of Molly Hartley",
          "Genre": "Horror",
          "Rotten Tomatoes Ratings %": 3,
          "Year of release": 2008,
          "my_column": 12
         },
         {
          "Audience Ratings %": 41,
          "Budget (million $)": 60,
          "Film": "The Heartbreak Kid",
          "Genre": "Comedy",
          "Rotten Tomatoes Ratings %": 30,
          "Year of release": 2007,
          "my_column": 31
         },
         {
          "Audience Ratings %": 91,
          "Budget (million $)": 25,
          "Film": "The Help",
          "Genre": "Drama",
          "Rotten Tomatoes Ratings %": 75,
          "Year of release": 2011,
          "my_column": 81
         },
         {
          "Audience Ratings %": 50,
          "Budget (million $)": 15,
          "Film": "The Hills Have Eyes 2",
          "Genre": "Horror",
          "Rotten Tomatoes Ratings %": 11,
          "Year of release": 2007,
          "my_column": 40
         },
         {
          "Audience Ratings %": 54,
          "Budget (million $)": 25,
          "Film": "The House Bunny",
          "Genre": "Comedy",
          "Rotten Tomatoes Ratings %": 39,
          "Year of release": 2008,
          "my_column": 44
         },
         {
          "Audience Ratings %": 83,
          "Budget (million $)": 15,
          "Film": "The Hurt Locker ",
          "Genre": "Drama",
          "Rotten Tomatoes Ratings %": 97,
          "Year of release": 2008,
          "my_column": 73
         },
         {
          "Audience Ratings %": 76,
          "Budget (million $)": 13,
          "Film": "The Ides of March",
          "Genre": "Thriller",
          "Rotten Tomatoes Ratings %": 85,
          "Year of release": 2011,
          "my_column": 66
         },
         {
          "Audience Ratings %": 75,
          "Budget (million $)": 138,
          "Film": "The Incredible Hulk",
          "Genre": "Action",
          "Rotten Tomatoes Ratings %": 67,
          "Year of release": 2008,
          "my_column": 65
         },
         {
          "Audience Ratings %": 42,
          "Budget (million $)": 22,
          "Film": "The Informant! ",
          "Genre": "Comedy",
          "Rotten Tomatoes Ratings %": 78,
          "Year of release": 2009,
          "my_column": 32
         },
         {
          "Audience Ratings %": 39,
          "Budget (million $)": 50,
          "Film": "The International ",
          "Genre": "Action",
          "Rotten Tomatoes Ratings %": 58,
          "Year of release": 2009,
          "my_column": 29
         },
         {
          "Audience Ratings %": 47,
          "Budget (million $)": 19,
          "Film": "The Invention of Lying ",
          "Genre": "Comedy",
          "Rotten Tomatoes Ratings %": 56,
          "Year of release": 2009,
          "my_column": 37
         },
         {
          "Audience Ratings %": 54,
          "Budget (million $)": 13,
          "Film": "The Iron Lady",
          "Genre": "Drama",
          "Rotten Tomatoes Ratings %": 53,
          "Year of release": 2011,
          "my_column": 44
         },
         {
          "Audience Ratings %": 47,
          "Budget (million $)": 10,
          "Film": "The Joneses",
          "Genre": "Comedy",
          "Rotten Tomatoes Ratings %": 61,
          "Year of release": 2011,
          "my_column": 37
         },
         {
          "Audience Ratings %": 75,
          "Budget (million $)": 40,
          "Film": "The Karate Kid",
          "Genre": "Action",
          "Rotten Tomatoes Ratings %": 66,
          "Year of release": 2010,
          "my_column": 65
         },
         {
          "Audience Ratings %": 72,
          "Budget (million $)": 4,
          "Film": "The Kids Are All Right",
          "Genre": "Comedy",
          "Rotten Tomatoes Ratings %": 94,
          "Year of release": 2010,
          "my_column": 62
         },
         {
          "Audience Ratings %": 78,
          "Budget (million $)": 80,
          "Film": "The Kingdom",
          "Genre": "Action",
          "Rotten Tomatoes Ratings %": 52,
          "Year of release": 2007,
          "my_column": 68
         },
         {
          "Audience Ratings %": 85,
          "Budget (million $)": 20,
          "Film": "The Kite Runner",
          "Genre": "Drama",
          "Rotten Tomatoes Ratings %": 66,
          "Year of release": 2007,
          "my_column": 75
         },
         {
          "Audience Ratings %": 42,
          "Budget (million $)": 150,
          "Film": "The Last Airbender",
          "Genre": "Action",
          "Rotten Tomatoes Ratings %": 6,
          "Year of release": 2010,
          "my_column": 32
         },
         {
          "Audience Ratings %": 32,
          "Budget (million $)": 2,
          "Film": "The Last Exorcism",
          "Genre": "Drama",
          "Rotten Tomatoes Ratings %": 73,
          "Year of release": 2010,
          "my_column": 22
         },
         {
          "Audience Ratings %": 66,
          "Budget (million $)": 20,
          "Film": "The Last Song",
          "Genre": "Drama",
          "Rotten Tomatoes Ratings %": 19,
          "Year of release": 2010,
          "my_column": 56
         },
         {
          "Audience Ratings %": 82,
          "Budget (million $)": 40,
          "Film": "The Lincoln Lawyer",
          "Genre": "Drama",
          "Rotten Tomatoes Ratings %": 84,
          "Year of release": 2011,
          "my_column": 72
         },
         {
          "Audience Ratings %": 39,
          "Budget (million $)": 30,
          "Film": "The Longshots",
          "Genre": "Comedy",
          "Rotten Tomatoes Ratings %": 39,
          "Year of release": 2008,
          "my_column": 29
         },
         {
          "Audience Ratings %": 55,
          "Budget (million $)": 25,
          "Film": "The Losers",
          "Genre": "Action",
          "Rotten Tomatoes Ratings %": 47,
          "Year of release": 2010,
          "my_column": 45
         },
         {
          "Audience Ratings %": 38,
          "Budget (million $)": 62,
          "Film": "The Love Guru",
          "Genre": "Comedy",
          "Rotten Tomatoes Ratings %": 14,
          "Year of release": 2008,
          "my_column": 28
         },
         {
          "Audience Ratings %": 57,
          "Budget (million $)": 65,
          "Film": "The Lovely Bones ",
          "Genre": "Drama",
          "Rotten Tomatoes Ratings %": 32,
          "Year of release": 2009,
          "my_column": 47
         },
         {
          "Audience Ratings %": 52,
          "Budget (million $)": 40,
          "Film": "The Mechanic",
          "Genre": "Action",
          "Rotten Tomatoes Ratings %": 53,
          "Year of release": 2011,
          "my_column": 42
         },
         {
          "Audience Ratings %": 43,
          "Budget (million $)": 25,
          "Film": "The Men Who Stare at Goats ",
          "Genre": "Comedy",
          "Rotten Tomatoes Ratings %": 52,
          "Year of release": 2009,
          "my_column": 33
         },
         {
          "Audience Ratings %": 64,
          "Budget (million $)": 18,
          "Film": "The Mist",
          "Genre": "Horror",
          "Rotten Tomatoes Ratings %": 72,
          "Year of release": 2007,
          "my_column": 54
         },
         {
          "Audience Ratings %": 40,
          "Budget (million $)": 145,
          "Film": "The Mummy: Tomb of the Dragon Emperor",
          "Genre": "Action",
          "Rotten Tomatoes Ratings %": 14,
          "Year of release": 2008,
          "my_column": 30
         },
         {
          "Audience Ratings %": 87,
          "Budget (million $)": 45,
          "Film": "The Muppets",
          "Genre": "Comedy",
          "Rotten Tomatoes Ratings %": 97,
          "Year of release": 2011,
          "my_column": 77
         },
         {
          "Audience Ratings %": 52,
          "Budget (million $)": 20,
          "Film": "The Nanny Diaries",
          "Genre": "Comedy",
          "Rotten Tomatoes Ratings %": 33,
          "Year of release": 2007,
          "my_column": 42
         },
         {
          "Audience Ratings %": 65,
          "Budget (million $)": 40,
          "Film": "The Other Boleyn Girl",
          "Genre": "Drama",
          "Rotten Tomatoes Ratings %": 41,
          "Year of release": 2008,
          "my_column": 55
         },
         {
          "Audience Ratings %": 57,
          "Budget (million $)": 100,
          "Film": "The Other Guys",
          "Genre": "Action",
          "Rotten Tomatoes Ratings %": 78,
          "Year of release": 2010,
          "my_column": 47
         },
         {
          "Audience Ratings %": 47,
          "Budget (million $)": 59,
          "Film": "The Pink Panther 2 ",
          "Genre": "Adventure",
          "Rotten Tomatoes Ratings %": 12,
          "Year of release": 2009,
          "my_column": 37
         },
         {
          "Audience Ratings %": 74,
          "Budget (million $)": 40,
          "Film": "The Proposal ",
          "Genre": "Comedy",
          "Rotten Tomatoes Ratings %": 43,
          "Year of release": 2009,
          "my_column": 64
         },
         {
          "Audience Ratings %": 53,
          "Budget (million $)": 40,
          "Film": "The Reaping",
          "Genre": "Horror",
          "Rotten Tomatoes Ratings %": 9,
          "Year of release": 2007,
          "my_column": 43
         },
         {
          "Audience Ratings %": 43,
          "Budget (million $)": 37,
          "Film": "The Rite",
          "Genre": "Horror",
          "Rotten Tomatoes Ratings %": 20,
          "Year of release": 2011,
          "my_column": 33
         },
         {
          "Audience Ratings %": 65,
          "Budget (million $)": 25,
          "Film": "The Road ",
          "Genre": "Adventure",
          "Rotten Tomatoes Ratings %": 75,
          "Year of release": 2009,
          "my_column": 55
         },
         {
          "Audience Ratings %": 29,
          "Budget (million $)": 16,
          "Film": "The Roommate",
          "Genre": "Horror",
          "Rotten Tomatoes Ratings %": 4,
          "Year of release": 2011,
          "my_column": 19
         },
         {
          "Audience Ratings %": 32,
          "Budget (million $)": 25,
          "Film": "The Ruins",
          "Genre": "Horror",
          "Rotten Tomatoes Ratings %": 46,
          "Year of release": 2008,
          "my_column": 22
         },
         {
          "Audience Ratings %": 48,
          "Budget (million $)": 45,
          "Film": "The Rum Diary",
          "Genre": "Drama",
          "Rotten Tomatoes Ratings %": 50,
          "Year of release": 2011,
          "my_column": 38
         },
         {
          "Audience Ratings %": 78,
          "Budget (million $)": 11,
          "Film": "The Secret Life of Bees",
          "Genre": "Drama",
          "Rotten Tomatoes Ratings %": 56,
          "Year of release": 2008,
          "my_column": 68
         },
         {
          "Audience Ratings %": 78,
          "Budget (million $)": 75,
          "Film": "The Simpsons Movie",
          "Genre": "Comedy",
          "Rotten Tomatoes Ratings %": 90,
          "Year of release": 2007,
          "my_column": 68
         },
         {
          "Audience Ratings %": 43,
          "Budget (million $)": 25,
          "Film": "The Sitter",
          "Genre": "Comedy",
          "Rotten Tomatoes Ratings %": 22,
          "Year of release": 2011,
          "my_column": 33
         },
         {
          "Audience Ratings %": 59,
          "Budget (million $)": 60,
          "Film": "The Soloist ",
          "Genre": "Drama",
          "Rotten Tomatoes Ratings %": 56,
          "Year of release": 2009,
          "my_column": 49
         },
         {
          "Audience Ratings %": 61,
          "Budget (million $)": 15,
          "Film": "The Son Of No One",
          "Genre": "Thriller",
          "Rotten Tomatoes Ratings %": 18,
          "Year of release": 2011,
          "my_column": 51
         },
         {
          "Audience Ratings %": 57,
          "Budget (million $)": 150,
          "Film": "The Sorcerer's Apprentice",
          "Genre": "Action",
          "Rotten Tomatoes Ratings %": 42,
          "Year of release": 2010,
          "my_column": 47
         },
         {
          "Audience Ratings %": 29,
          "Budget (million $)": 6,
          "Film": "The Spirit",
          "Genre": "Action",
          "Rotten Tomatoes Ratings %": 14,
          "Year of release": 2008,
          "my_column": 19
         },
         {
          "Audience Ratings %": 46,
          "Budget (million $)": 0,
          "Film": "The Spy Next Door",
          "Genre": "Action",
          "Rotten Tomatoes Ratings %": 13,
          "Year of release": 2010,
          "my_column": 36
         },
         {
          "Audience Ratings %": 48,
          "Budget (million $)": 9,
          "Film": "The Strangers",
          "Genre": "Horror",
          "Rotten Tomatoes Ratings %": 44,
          "Year of release": 2008,
          "my_column": 38
         },
         {
          "Audience Ratings %": 44,
          "Budget (million $)": 19,
          "Film": "The Switch",
          "Genre": "Comedy",
          "Rotten Tomatoes Ratings %": 52,
          "Year of release": 2010,
          "my_column": 34
         },
         {
          "Audience Ratings %": 60,
          "Budget (million $)": 100,
          "Film": "The Taking of Pelham 1 2 3 ",
          "Genre": "Action",
          "Rotten Tomatoes Ratings %": 51,
          "Year of release": 2009,
          "my_column": 50
         },
         {
          "Audience Ratings %": 52,
          "Budget (million $)": 38,
          "Film": "The Thing",
          "Genre": "Horror",
          "Rotten Tomatoes Ratings %": 36,
          "Year of release": 2011,
          "my_column": 42
         },
         {
          "Audience Ratings %": 48,
          "Budget (million $)": 75,
          "Film": "The Three Musketeers",
          "Genre": "Action",
          "Rotten Tomatoes Ratings %": 24,
          "Year of release": 2011,
          "my_column": 38
         },
         {
          "Audience Ratings %": 65,
          "Budget (million $)": 39,
          "Film": "The Time Traveler's Wife ",
          "Genre": "Drama",
          "Rotten Tomatoes Ratings %": 38,
          "Year of release": 2009,
          "my_column": 55
         },
         {
          "Audience Ratings %": 44,
          "Budget (million $)": 100,
          "Film": "The Tourist",
          "Genre": "Thriller",
          "Rotten Tomatoes Ratings %": 20,
          "Year of release": 2010,
          "my_column": 34
         },
         {
          "Audience Ratings %": 61,
          "Budget (million $)": 32,
          "Film": "The Tree Of Life",
          "Genre": "Drama",
          "Rotten Tomatoes Ratings %": 84,
          "Year of release": 2011,
          "my_column": 51
         },
         {
          "Audience Ratings %": 74,
          "Budget (million $)": 68,
          "Film": "The Twilight Saga: Eclipse\t",
          "Genre": "Drama",
          "Rotten Tomatoes Ratings %": 50,
          "Year of release": 2010,
          "my_column": 64
         },
         {
          "Audience Ratings %": 78,
          "Budget (million $)": 50,
          "Film": "The Twilight Saga: New Moon ",
          "Genre": "Drama",
          "Rotten Tomatoes Ratings %": 27,
          "Year of release": 2009,
          "my_column": 68
         },
         {
          "Audience Ratings %": 68,
          "Budget (million $)": 38,
          "Film": "The Ugly Truth ",
          "Genre": "Comedy",
          "Rotten Tomatoes Ratings %": 14,
          "Year of release": 2009,
          "my_column": 58
         },
         {
          "Audience Ratings %": 39,
          "Budget (million $)": 16,
          "Film": "The Unborn",
          "Genre": "Horror",
          "Rotten Tomatoes Ratings %": 11,
          "Year of release": 2009,
          "my_column": 29
         },
         {
          "Audience Ratings %": 52,
          "Budget (million $)": 0,
          "Film": "The Uninvited ",
          "Genre": "Drama",
          "Rotten Tomatoes Ratings %": 31,
          "Year of release": 2009,
          "my_column": 42
         },
         {
          "Audience Ratings %": 83,
          "Budget (million $)": 4,
          "Film": "The Visitor",
          "Genre": "Drama",
          "Rotten Tomatoes Ratings %": 92,
          "Year of release": 2007,
          "my_column": 73
         },
         {
          "Audience Ratings %": 38,
          "Budget (million $)": 150,
          "Film": "The Wolfman",
          "Genre": "Drama",
          "Rotten Tomatoes Ratings %": 33,
          "Year of release": 2010,
          "my_column": 28
         },
         {
          "Audience Ratings %": 41,
          "Budget (million $)": 16,
          "Film": "The Women",
          "Genre": "Drama",
          "Rotten Tomatoes Ratings %": 13,
          "Year of release": 2008,
          "my_column": 31
         },
         {
          "Audience Ratings %": 34,
          "Budget (million $)": 35,
          "Film": "The X-Files: I Want to Believe",
          "Genre": "Thriller",
          "Rotten Tomatoes Ratings %": 32,
          "Year of release": 2008,
          "my_column": 24
         },
         {
          "Audience Ratings %": 84,
          "Budget (million $)": 25,
          "Film": "There Will Be Blood",
          "Genre": "Drama",
          "Rotten Tomatoes Ratings %": 91,
          "Year of release": 2007,
          "my_column": 74
         },
         {
          "Audience Ratings %": 80,
          "Budget (million $)": 150,
          "Film": "Thor",
          "Genre": "Action",
          "Rotten Tomatoes Ratings %": 77,
          "Year of release": 2011,
          "my_column": 70
         },
         {
          "Audience Ratings %": 68,
          "Budget (million $)": 21,
          "Film": "Tinker Tailor Soldier Spy",
          "Genre": "Thriller",
          "Rotten Tomatoes Ratings %": 83,
          "Year of release": 2011,
          "my_column": 58
         },
         {
          "Audience Ratings %": 63,
          "Budget (million $)": 35,
          "Film": "TMNT",
          "Genre": "Action",
          "Rotten Tomatoes Ratings %": 33,
          "Year of release": 2007,
          "my_column": 53
         },
         {
          "Audience Ratings %": 46,
          "Budget (million $)": 48,
          "Film": "Tooth Fairy",
          "Genre": "Comedy",
          "Rotten Tomatoes Ratings %": 16,
          "Year of release": 2010,
          "my_column": 36
         },
         {
          "Audience Ratings %": 61,
          "Budget (million $)": 75,
          "Film": "Tower Heist",
          "Genre": "Comedy",
          "Rotten Tomatoes Ratings %": 68,
          "Year of release": 2011,
          "my_column": 51
         },
         {
          "Audience Ratings %": 66,
          "Budget (million $)": 22,
          "Film": "Traitor",
          "Genre": "Thriller",
          "Rotten Tomatoes Ratings %": 55,
          "Year of release": 2008,
          "my_column": 56
         },
         {
          "Audience Ratings %": 89,
          "Budget (million $)": 150,
          "Film": "Transformers",
          "Genre": "Action",
          "Rotten Tomatoes Ratings %": 57,
          "Year of release": 2007,
          "my_column": 79
         },
         {
          "Audience Ratings %": 67,
          "Budget (million $)": 195,
          "Film": "Transformers: Dark of the Moon",
          "Genre": "Action",
          "Rotten Tomatoes Ratings %": 35,
          "Year of release": 2011,
          "my_column": 57
         },
         {
          "Audience Ratings %": 76,
          "Budget (million $)": 210,
          "Film": "Transformers: Revenge of the Fallen ",
          "Genre": "Action",
          "Rotten Tomatoes Ratings %": 20,
          "Year of release": 2009,
          "my_column": 66
         },
         {
          "Audience Ratings %": 58,
          "Budget (million $)": 30,
          "Film": "Transporter 3",
          "Genre": "Action",
          "Rotten Tomatoes Ratings %": 36,
          "Year of release": 2008,
          "my_column": 48
         },
         {
          "Audience Ratings %": 24,
          "Budget (million $)": 35,
          "Film": "Trespass",
          "Genre": "Thriller",
          "Rotten Tomatoes Ratings %": 11,
          "Year of release": 2011,
          "my_column": 14
         },
         {
          "Audience Ratings %": 67,
          "Budget (million $)": 170,
          "Film": "Tron: Legacy",
          "Genre": "Action",
          "Rotten Tomatoes Ratings %": 50,
          "Year of release": 2010,
          "my_column": 57
         },
         {
          "Audience Ratings %": 69,
          "Budget (million $)": 90,
          "Film": "Tropic Thunder",
          "Genre": "Comedy",
          "Rotten Tomatoes Ratings %": 83,
          "Year of release": 2008,
          "my_column": 59
         },
         {
          "Audience Ratings %": 86,
          "Budget (million $)": 38,
          "Film": "True Grit",
          "Genre": "Adventure",
          "Rotten Tomatoes Ratings %": 96,
          "Year of release": 2010,
          "my_column": 76
         },
         {
          "Audience Ratings %": 68,
          "Budget (million $)": 110,
          "Film": "Twilight: Breaking Dawn",
          "Genre": "Romance",
          "Rotten Tomatoes Ratings %": 26,
          "Year of release": 2011,
          "my_column": 58
         },
         {
          "Audience Ratings %": 36,
          "Budget (million $)": 20,
          "Film": "Tyler Perry's Meet the Browns",
          "Genre": "Drama",
          "Rotten Tomatoes Ratings %": 31,
          "Year of release": 2008,
          "my_column": 26
         },
         {
          "Audience Ratings %": 36,
          "Budget (million $)": 10,
          "Film": "Tyler Perry's The Family That Preys",
          "Genre": "Drama",
          "Rotten Tomatoes Ratings %": 51,
          "Year of release": 2008,
          "my_column": 26
         },
         {
          "Audience Ratings %": 47,
          "Budget (million $)": 15,
          "Film": "Tyler Perry's Why Did I get Married",
          "Genre": "Romance",
          "Rotten Tomatoes Ratings %": 46,
          "Year of release": 2007,
          "my_column": 37
         },
         {
          "Audience Ratings %": 37,
          "Budget (million $)": 2,
          "Film": "Under the Same Moon",
          "Genre": "Drama",
          "Rotten Tomatoes Ratings %": 72,
          "Year of release": 2007,
          "my_column": 27
         },
         {
          "Audience Ratings %": 68,
          "Budget (million $)": 35,
          "Film": "Underworld: Rise of the Lycans ",
          "Genre": "Action",
          "Rotten Tomatoes Ratings %": 30,
          "Year of release": 2009,
          "my_column": 58
         },
         {
          "Audience Ratings %": 57,
          "Budget (million $)": 30,
          "Film": "Unknown",
          "Genre": "Thriller",
          "Rotten Tomatoes Ratings %": 55,
          "Year of release": 2011,
          "my_column": 47
         },
         {
          "Audience Ratings %": 73,
          "Budget (million $)": 95,
          "Film": "Unstoppable",
          "Genre": "Action",
          "Rotten Tomatoes Ratings %": 86,
          "Year of release": 2010,
          "my_column": 63
         },
         {
          "Audience Ratings %": 56,
          "Budget (million $)": 35,
          "Film": "Untraceable",
          "Genre": "Thriller",
          "Rotten Tomatoes Ratings %": 14,
          "Year of release": 2008,
          "my_column": 46
         },
         {
          "Audience Ratings %": 76,
          "Budget (million $)": 25,
          "Film": "Up in the Air ",
          "Genre": "Drama",
          "Rotten Tomatoes Ratings %": 90,
          "Year of release": 2009,
          "my_column": 66
         },
         {
          "Audience Ratings %": 46,
          "Budget (million $)": 19,
          "Film": "Vacancy",
          "Genre": "Comedy",
          "Rotten Tomatoes Ratings %": 55,
          "Year of release": 2007,
          "my_column": 36
         },
         {
          "Audience Ratings %": 54,
          "Budget (million $)": 52,
          "Film": "Valentine's Day",
          "Genre": "Comedy",
          "Rotten Tomatoes Ratings %": 17,
          "Year of release": 2010,
          "my_column": 44
         },
         {
          "Audience Ratings %": 66,
          "Budget (million $)": 75,
          "Film": "Valkyrie",
          "Genre": "Thriller",
          "Rotten Tomatoes Ratings %": 58,
          "Year of release": 2008,
          "my_column": 56
         },
         {
          "Audience Ratings %": 32,
          "Budget (million $)": 20,
          "Film": "Vampires Suck",
          "Genre": "Comedy",
          "Rotten Tomatoes Ratings %": 4,
          "Year of release": 2010,
          "my_column": 22
         },
         {
          "Audience Ratings %": 62,
          "Budget (million $)": 10,
          "Film": "Vanishing on 7th Street",
          "Genre": "Horror",
          "Rotten Tomatoes Ratings %": 52,
          "Year of release": 2010,
          "my_column": 52
         },
         {
          "Audience Ratings %": 61,
          "Budget (million $)": 40,
          "Film": "Vantage Point",
          "Genre": "Thriller",
          "Rotten Tomatoes Ratings %": 35,
          "Year of release": 2008,
          "my_column": 51
         },
         {
          "Audience Ratings %": 42,
          "Budget (million $)": 26,
          "Film": "W.",
          "Genre": "Drama",
          "Rotten Tomatoes Ratings %": 60,
          "Year of release": 2008,
          "my_column": 32
         },
         {
          "Audience Ratings %": 53,
          "Budget (million $)": 5,
          "Film": "Waiting For Forever",
          "Genre": "Romance",
          "Rotten Tomatoes Ratings %": 6,
          "Year of release": 2010,
          "my_column": 43
         },
         {
          "Audience Ratings %": 67,
          "Budget (million $)": 2,
          "Film": "Waitress",
          "Genre": "Romance",
          "Rotten Tomatoes Ratings %": 89,
          "Year of release": 2007,
          "my_column": 57
         },
         {
          "Audience Ratings %": 55,
          "Budget (million $)": 35,
          "Film": "Walk Hard: The Dewey Cox Story",
          "Genre": "Comedy",
          "Rotten Tomatoes Ratings %": 75,
          "Year of release": 2007,
          "my_column": 45
         },
         {
          "Audience Ratings %": 43,
          "Budget (million $)": 70,
          "Film": "Wall Street: Money Never Sleeps",
          "Genre": "Drama",
          "Rotten Tomatoes Ratings %": 54,
          "Year of release": 2010,
          "my_column": 33
         },
         {
          "Audience Ratings %": 72,
          "Budget (million $)": 75,
          "Film": "Wanted",
          "Genre": "Action",
          "Rotten Tomatoes Ratings %": 73,
          "Year of release": 2008,
          "my_column": 62
         },
         {
          "Audience Ratings %": 73,
          "Budget (million $)": 66,
          "Film": "War Horse",
          "Genre": "Drama",
          "Rotten Tomatoes Ratings %": 77,
          "Year of release": 2011,
          "my_column": 63
         },
         {
          "Audience Ratings %": 93,
          "Budget (million $)": 25,
          "Film": "Warrior",
          "Genre": "Action",
          "Rotten Tomatoes Ratings %": 83,
          "Year of release": 2011,
          "my_column": 83
         },
         {
          "Audience Ratings %": 68,
          "Budget (million $)": 130,
          "Film": "Watchmen ",
          "Genre": "Action",
          "Rotten Tomatoes Ratings %": 64,
          "Year of release": 2009,
          "my_column": 58
         },
         {
          "Audience Ratings %": 72,
          "Budget (million $)": 38,
          "Film": "Water For Elephants",
          "Genre": "Drama",
          "Rotten Tomatoes Ratings %": 60,
          "Year of release": 2011,
          "my_column": 62
         },
         {
          "Audience Ratings %": 79,
          "Budget (million $)": 50,
          "Film": "We Bought a Zoo",
          "Genre": "Comedy",
          "Rotten Tomatoes Ratings %": 63,
          "Year of release": 2011,
          "my_column": 69
         },
         {
          "Audience Ratings %": 63,
          "Budget (million $)": 21,
          "Film": "We Own the Night",
          "Genre": "Drama",
          "Rotten Tomatoes Ratings %": 55,
          "Year of release": 2007,
          "my_column": 53
         },
         {
          "Audience Ratings %": 64,
          "Budget (million $)": 35,
          "Film": "Welcome Home, Roscoe Jenkins",
          "Genre": "Comedy",
          "Rotten Tomatoes Ratings %": 24,
          "Year of release": 2008,
          "my_column": 54
         },
         {
          "Audience Ratings %": 72,
          "Budget (million $)": 35,
          "Film": "What Happens in Vegas",
          "Genre": "Comedy",
          "Rotten Tomatoes Ratings %": 28,
          "Year of release": 2008,
          "my_column": 62
         },
         {
          "Audience Ratings %": 50,
          "Budget (million $)": 20,
          "Film": "What's Your Number",
          "Genre": "Comedy",
          "Rotten Tomatoes Ratings %": 24,
          "Year of release": 2011,
          "my_column": 40
         },
         {
          "Audience Ratings %": 63,
          "Budget (million $)": 15,
          "Film": "Whatever Works ",
          "Genre": "Comedy",
          "Rotten Tomatoes Ratings %": 50,
          "Year of release": 2009,
          "my_column": 53
         },
         {
          "Audience Ratings %": 44,
          "Budget (million $)": 0,
          "Film": "When in Rome",
          "Genre": "Comedy",
          "Rotten Tomatoes Ratings %": 15,
          "Year of release": 2010,
          "my_column": 34
         },
         {
          "Audience Ratings %": 59,
          "Budget (million $)": 100,
          "Film": "Where the Wild Things Are ",
          "Genre": "Adventure",
          "Rotten Tomatoes Ratings %": 73,
          "Year of release": 2009,
          "my_column": 49
         },
         {
          "Audience Ratings %": 73,
          "Budget (million $)": 15,
          "Film": "Whip It ",
          "Genre": "Drama",
          "Rotten Tomatoes Ratings %": 84,
          "Year of release": 2009,
          "my_column": 63
         },
         {
          "Audience Ratings %": 28,
          "Budget (million $)": 35,
          "Film": "Whiteout ",
          "Genre": "Action",
          "Rotten Tomatoes Ratings %": 7,
          "Year of release": 2009,
          "my_column": 18
         },
         {
          "Audience Ratings %": 67,
          "Budget (million $)": 20,
          "Film": "Why Did I Get Married Too?",
          "Genre": "Comedy",
          "Rotten Tomatoes Ratings %": 27,
          "Year of release": 2010,
          "my_column": 57
         },
         {
          "Audience Ratings %": 72,
          "Budget (million $)": 90,
          "Film": "Wild Hogs",
          "Genre": "Comedy",
          "Rotten Tomatoes Ratings %": 14,
          "Year of release": 2007,
          "my_column": 62
         },
         {
          "Audience Ratings %": 73,
          "Budget (million $)": 2,
          "Film": "Winter's Bone",
          "Genre": "Drama",
          "Rotten Tomatoes Ratings %": 94,
          "Year of release": 2010,
          "my_column": 63
         },
         {
          "Audience Ratings %": 72,
          "Budget (million $)": 150,
          "Film": "X-Men Origins: Wolverine ",
          "Genre": "Action",
          "Rotten Tomatoes Ratings %": 37,
          "Year of release": 2009,
          "my_column": 62
         },
         {
          "Audience Ratings %": 88,
          "Budget (million $)": 160,
          "Film": "X-Men: First Class",
          "Genre": "Action",
          "Rotten Tomatoes Ratings %": 87,
          "Year of release": 2011,
          "my_column": 78
         },
         {
          "Audience Ratings %": 31,
          "Budget (million $)": 60,
          "Film": "Year One ",
          "Genre": "Adventure",
          "Rotten Tomatoes Ratings %": 14,
          "Year of release": 2009,
          "my_column": 21
         },
         {
          "Audience Ratings %": 72,
          "Budget (million $)": 70,
          "Film": "Yes Man",
          "Genre": "Comedy",
          "Rotten Tomatoes Ratings %": 43,
          "Year of release": 2008,
          "my_column": 62
         },
         {
          "Audience Ratings %": 36,
          "Budget (million $)": 80,
          "Film": "Yogi Bear",
          "Genre": "Comedy",
          "Rotten Tomatoes Ratings %": 14,
          "Year of release": 2010,
          "my_column": 26
         },
         {
          "Audience Ratings %": 45,
          "Budget (million $)": 20,
          "Film": "You Again",
          "Genre": "Comedy",
          "Rotten Tomatoes Ratings %": 18,
          "Year of release": 2010,
          "my_column": 35
         },
         {
          "Audience Ratings %": 50,
          "Budget (million $)": 80,
          "Film": "You Don't Mess with the Zohan",
          "Genre": "Comedy",
          "Rotten Tomatoes Ratings %": 36,
          "Year of release": 2008,
          "my_column": 40
         },
         {
          "Audience Ratings %": 35,
          "Budget (million $)": 22,
          "Film": "You Will Meet a Tall Dark Stranger",
          "Genre": "Comedy",
          "Rotten Tomatoes Ratings %": 43,
          "Year of release": 2010,
          "my_column": 25
         },
         {
          "Audience Ratings %": 36,
          "Budget (million $)": 50,
          "Film": "Your Highness",
          "Genre": "Comedy",
          "Rotten Tomatoes Ratings %": 26,
          "Year of release": 2011,
          "my_column": 26
         },
         {
          "Audience Ratings %": 52,
          "Budget (million $)": 18,
          "Film": "Youth in Revolt",
          "Genre": "Comedy",
          "Rotten Tomatoes Ratings %": 68,
          "Year of release": 2009,
          "my_column": 42
         },
         {
          "Audience Ratings %": 73,
          "Budget (million $)": 65,
          "Film": "Zodiac",
          "Genre": "Thriller",
          "Rotten Tomatoes Ratings %": 89,
          "Year of release": 2007,
          "my_column": 63
         },
         {
          "Audience Ratings %": 87,
          "Budget (million $)": 24,
          "Film": "Zombieland ",
          "Genre": "Action",
          "Rotten Tomatoes Ratings %": 90,
          "Year of release": 2009,
          "my_column": 77
         },
         {
          "Audience Ratings %": 42,
          "Budget (million $)": 80,
          "Film": "Zookeeper",
          "Genre": "Comedy",
          "Rotten Tomatoes Ratings %": 14,
          "Year of release": 2011,
          "my_column": 32
         }
        ]
       },
       "encoding": {
        "color": {
         "field": "Genre",
         "type": "nominal"
        },
        "opacity": {
         "value": 0.5
        },
        "size": {
         "field": "Budget (million $)",
         "type": "quantitative"
        },
        "tooltip": [
         {
          "field": "Genre",
          "type": "nominal"
         },
         {
          "field": "Film",
          "type": "nominal"
         }
        ],
        "x": {
         "field": "Rotten Tomatoes Ratings %",
         "scale": {
          "zero": false
         },
         "type": "quantitative"
        },
        "y": {
         "field": "Audience Ratings %",
         "scale": {
          "zero": false
         },
         "type": "quantitative"
        }
       },
       "mark": {
        "filled": true,
        "type": "point"
       },
       "selection": {
        "selector005": {
         "type": "single"
        }
       }
      },
      "image/png": "[encoded data removed]",
      "text/plain": [
       "<VegaLite 3 object>\n",
       "\n",
       "If you see this message, it means the renderer has not been properly enabled\n",
       "for the frontend that you are using. For more information, see\n",
       "https://altair-viz.github.io/user_guide/troubleshooting.html\n"
      ]
     },
     "execution_count": 21,
     "metadata": {},
     "output_type": "execute_result"
    }
   ],
   "source": [
    "selection = alt.selection_single()\n",
    "alt.Chart(df).mark_point(filled=True).encode(\n",
    "    alt.X('Rotten Tomatoes Ratings %:Q', scale=alt.Scale(zero=False)), #specifying data type by Q (quantity)\n",
    "    alt.Y('Audience Ratings %:Q',scale=alt.Scale(zero=False)),\n",
    "    alt.Size('Budget (million $):Q'), #adding size to denote budget\n",
    "    alt.Color('Genre:N'), #adding color dimension, data type is Nominal (categories name)\n",
    "    alt.OpacityValue(0.5), #increasing opacity to enhance visual, mark_point(filled=True) fills the color\n",
    "    tooltip=[alt.Tooltip('Genre:N'), #adding tooltip to showcase info at each point\n",
    "            alt.Tooltip('Film')\n",
    "            ]\n",
    "    #,color=alt.condition(selection, 'cluster:N', alt.value('grey'))\n",
    "    \n",
    ").add_selection(selection)"
   ]
  },
  {
   "cell_type": "code",
   "execution_count": 22,
   "metadata": {},
   "outputs": [],
   "source": [
    "selection = alt.selection_single()\n",
    "chart=alt.Chart(df).mark_point(filled=True).encode(\n",
    "    alt.X('Rotten Tomatoes Ratings %:Q', scale=alt.Scale(zero=False)), #specifying data type by Q (quantity)\n",
    "    alt.Y('Audience Ratings %:Q',scale=alt.Scale(zero=False)),\n",
    "    alt.Size('Budget (million $):Q'), #adding size to denote budget\n",
    "    #alt.Color(selection,'Genre:N', alt.value('grey')), #adding color dimension, data type is Nominal (categories name)\n",
    "    alt.OpacityValue(0.5), #increasing opacity to enhance visual, mark_point(filled=True) fills the color\n",
    "    tooltip=[alt.Tooltip('Genre:N'), #adding tooltip to showcase info at each point\n",
    "            alt.Tooltip('Film')\n",
    "            ]\n",
    "    ,color=alt.condition(selection, 'Genre:N', alt.value('grey'))\n",
    ").add_selection(selection)"
   ]
  },
  {
   "cell_type": "code",
   "execution_count": 26,
   "metadata": {},
   "outputs": [],
   "source": [
    "#!datapane login --server=https://datapane.com/ --token=1a8fb60afbd7fc224d02430ebddf78017a8d2ed5 #ac3fc034a65fd8a9322baabe08ad75cf82133089"
   ]
  },
  {
   "cell_type": "code",
   "execution_count": 24,
   "metadata": {},
   "outputs": [],
   "source": [
    "# Scripts to create df and chart\n",
    "# Once you have the df and chart, simply use\n",
    "report = dp.Report(\n",
    "    dp.Markdown('My second report'), #add description to the report\n",
    "    dp.Table(df), #create a table\n",
    "    dp.Plot(chart) #create a chart\n",
    ")\n",
    "#report.save(path='movie_report.html',open=True)"
   ]
  },
  {
   "cell_type": "code",
   "execution_count": 25,
   "metadata": {},
   "outputs": [
    {
     "name": "stdout",
     "output_type": "stream",
     "text": [
      "\u001b[34m00:25:40\u001b[0m [\u001b[32mINFO \u001b[0m] Uploading assets for Report\u001b[0m\n",
      "\u001b[34m00:25:40\u001b[0m [\u001b[32mINFO \u001b[0m] Uploading /Users/anshulsaxena/Dropbox/Online Courses/Data Science AI Machine Learning/A-Z_Python_for_Data_Science/dp-tmp-8l8bss0g/dp-tmp-eritznhm.arrow\u001b[0m\n",
      "\u001b[34m00:25:44\u001b[0m [\u001b[32mINFO \u001b[0m] Uploading /Users/anshulsaxena/Dropbox/Online Courses/Data Science AI Machine Learning/A-Z_Python_for_Data_Science/dp-tmp-8l8bss0g/dp-tmp-8zef5vz_.vl.json\u001b[0m\n",
      "\u001b[34m00:25:48\u001b[0m [\u001b[32mINFO \u001b[0m] Report published to Datapane as https://datapane.com/anshul6/reports/stock_report4_b3b82eb8/\u001b[0m\n"
     ]
    }
   ],
   "source": [
    "#Publish your report . Make sure to have visibility = public if you want to share it\n",
    "report.publish(name='stock_report4', visibility='PUBLIC',title='Second report')"
   ]
  },
  {
   "cell_type": "code",
   "execution_count": 75,
   "metadata": {},
   "outputs": [
    {
     "name": "stdout",
     "output_type": "stream",
     "text": [
      "-\u001b[34m22:38:59\u001b[0m [\u001b[32mINFO \u001b[0m] Built bundle: /var/folders/rm/jqmp7jd579l7s2k4wxp1p25m0000gp/T/datapane-temp-bundle-o7x3usy4.tar.gz\u001b[0m\n",
      "\b\\\u001b[34m22:39:00\u001b[0m [\u001b[32mINFO \u001b[0m] Uploading /var/folders/rm/jqmp7jd579l7s2k4wxp1p25m0000gp/T/datapane-temp-bundle-o7x3usy4.tar.gz\u001b[0m\n",
      "\b|\u001b[32mUploaded DataVisualizer.py to https://datapane.com/anshul6/scripts/movie_report/\u001b[0m\n",
      "\b"
     ]
    }
   ],
   "source": [
    "# Deploying the script for others to generate report by themselves\n",
    "#!datapane script deploy --script=DataVisualizer.ipynb --name=movie_report"
   ]
  },
  {
   "cell_type": "code",
   "execution_count": null,
   "metadata": {},
   "outputs": [],
   "source": []
  }
 ],
 "metadata": {
  "kernelspec": {
   "display_name": "Python 3",
   "language": "python",
   "name": "python3"
  },
  "language_info": {
   "codemirror_mode": {
    "name": "ipython",
    "version": 3
   },
   "file_extension": ".py",
   "mimetype": "text/x-python",
   "name": "python",
   "nbconvert_exporter": "python",
   "pygments_lexer": "ipython3",
   "version": "3.7.7"
  }
 },
 "nbformat": 4,
 "nbformat_minor": 4
}
