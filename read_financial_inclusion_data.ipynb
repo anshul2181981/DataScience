{
 "cells": [
  {
   "cell_type": "code",
   "execution_count": 1,
   "metadata": {},
   "outputs": [],
   "source": [
    "import pandas as pd\n",
    "from functools import reduce\n",
    "import xlsxwriter\n",
    "import pprint"
   ]
  },
  {
   "cell_type": "markdown",
   "metadata": {},
   "source": [
    "#### 1. Read the financial inclusion file\n",
    "##### a. Navigate to the right working dir\n",
    "##### b. Read all the sheets/tabs of the excel file"
   ]
  },
  {
   "cell_type": "code",
   "execution_count": 29,
   "metadata": {},
   "outputs": [
    {
     "name": "stdin",
     "output_type": "stream",
     "text": [
      "Enter the sheet name to be read from the workbook World Bank data 7 July MSC R4 countries.xlsx:  Data\n"
     ]
    },
    {
     "data": {
      "text/html": [
       "<div>\n",
       "<style scoped>\n",
       "    .dataframe tbody tr th:only-of-type {\n",
       "        vertical-align: middle;\n",
       "    }\n",
       "\n",
       "    .dataframe tbody tr th {\n",
       "        vertical-align: top;\n",
       "    }\n",
       "\n",
       "    .dataframe thead th {\n",
       "        text-align: right;\n",
       "    }\n",
       "</style>\n",
       "<table border=\"1\" class=\"dataframe\">\n",
       "  <thead>\n",
       "    <tr style=\"text-align: right;\">\n",
       "      <th></th>\n",
       "      <th>Country Name</th>\n",
       "      <th>Country Code</th>\n",
       "      <th>Series Name</th>\n",
       "      <th>Series Code</th>\n",
       "      <th>2015 [YR2015]</th>\n",
       "      <th>2016 [YR2016]</th>\n",
       "      <th>2017 [YR2017]</th>\n",
       "      <th>2018 [YR2018]</th>\n",
       "      <th>2019 [YR2019]</th>\n",
       "    </tr>\n",
       "  </thead>\n",
       "  <tbody>\n",
       "    <tr>\n",
       "      <th>0</th>\n",
       "      <td>Bangladesh</td>\n",
       "      <td>BGD</td>\n",
       "      <td>Population, total</td>\n",
       "      <td>SP.POP.TOTL</td>\n",
       "      <td>156256276</td>\n",
       "      <td>157970840</td>\n",
       "      <td>159670593</td>\n",
       "      <td>161356039</td>\n",
       "      <td>163046161</td>\n",
       "    </tr>\n",
       "    <tr>\n",
       "      <th>1</th>\n",
       "      <td>Bangladesh</td>\n",
       "      <td>BGD</td>\n",
       "      <td>Population growth (annual %)</td>\n",
       "      <td>SP.POP.GROW</td>\n",
       "      <td>1.11728</td>\n",
       "      <td>1.0913</td>\n",
       "      <td>1.07024</td>\n",
       "      <td>1.05004</td>\n",
       "      <td>1.042</td>\n",
       "    </tr>\n",
       "    <tr>\n",
       "      <th>2</th>\n",
       "      <td>Bangladesh</td>\n",
       "      <td>BGD</td>\n",
       "      <td>Income share held by lowest 20%</td>\n",
       "      <td>SI.DST.FRST.20</td>\n",
       "      <td>..</td>\n",
       "      <td>8.6</td>\n",
       "      <td>..</td>\n",
       "      <td>..</td>\n",
       "      <td>..</td>\n",
       "    </tr>\n",
       "    <tr>\n",
       "      <th>3</th>\n",
       "      <td>Bangladesh</td>\n",
       "      <td>BGD</td>\n",
       "      <td>GDP (current US$)</td>\n",
       "      <td>NY.GDP.MKTP.CD</td>\n",
       "      <td>1.95079e+11</td>\n",
       "      <td>2.21415e+11</td>\n",
       "      <td>2.49711e+11</td>\n",
       "      <td>2.74039e+11</td>\n",
       "      <td>3.02571e+11</td>\n",
       "    </tr>\n",
       "    <tr>\n",
       "      <th>4</th>\n",
       "      <td>Bangladesh</td>\n",
       "      <td>BGD</td>\n",
       "      <td>GDP growth (annual %)</td>\n",
       "      <td>NY.GDP.MKTP.KD.ZG</td>\n",
       "      <td>6.55264</td>\n",
       "      <td>7.1135</td>\n",
       "      <td>7.28418</td>\n",
       "      <td>7.86371</td>\n",
       "      <td>8.15268</td>\n",
       "    </tr>\n",
       "  </tbody>\n",
       "</table>\n",
       "</div>"
      ],
      "text/plain": [
       "  Country Name Country Code                      Series Name  \\\n",
       "0   Bangladesh          BGD                Population, total   \n",
       "1   Bangladesh          BGD     Population growth (annual %)   \n",
       "2   Bangladesh          BGD  Income share held by lowest 20%   \n",
       "3   Bangladesh          BGD                GDP (current US$)   \n",
       "4   Bangladesh          BGD            GDP growth (annual %)   \n",
       "\n",
       "         Series Code 2015 [YR2015] 2016 [YR2016] 2017 [YR2017] 2018 [YR2018]  \\\n",
       "0        SP.POP.TOTL     156256276     157970840     159670593     161356039   \n",
       "1        SP.POP.GROW       1.11728        1.0913       1.07024       1.05004   \n",
       "2     SI.DST.FRST.20            ..           8.6            ..            ..   \n",
       "3     NY.GDP.MKTP.CD   1.95079e+11   2.21415e+11   2.49711e+11   2.74039e+11   \n",
       "4  NY.GDP.MKTP.KD.ZG       6.55264        7.1135       7.28418       7.86371   \n",
       "\n",
       "  2019 [YR2019]  \n",
       "0     163046161  \n",
       "1         1.042  \n",
       "2            ..  \n",
       "3   3.02571e+11  \n",
       "4       8.15268  "
      ]
     },
     "execution_count": 29,
     "metadata": {},
     "output_type": "execute_result"
    }
   ],
   "source": [
    "import os\n",
    "os.getcwd()\n",
    "folder = '/Users/anshulsaxena/MicroSave/cohort 3/contingency plan/Data Sources/wip'\n",
    "os.chdir(folder)\n",
    "file_name = 'World Bank data 7 July MSC R4 countries.xlsx' # This file has been taken from the World Bank site\n",
    "path = folder+'/'+file_name\n",
    "df_raw_fin_data = []\n",
    "df_read_all_sheets = pd.read_excel(path, sheet_name=None,index_col=0) # None value for sheet_name reads all sheets; index_col=0 will drop unnamed index col whilw reading file\n",
    "\n",
    "\n",
    "\n",
    "df_read_sheet = input(f\"Enter the sheet name to be read from the workbook {file_name}: \")\n",
    "\n",
    "df_raw_fin_data = read_all_sheets[read_sheet]\n",
    "df_raw_fin_data.head()"
   ]
  },
  {
   "cell_type": "markdown",
   "metadata": {},
   "source": [
    "#### 2. Tidying the data\n",
    "##### World Bank data is to be converted from wide to long format esp. for tableau viz\n",
    "##### a. Drop unnecessary columns\n",
    "##### b. Compress the different 'year' columns into a single 'year' column"
   ]
  },
  {
   "cell_type": "code",
   "execution_count": 35,
   "metadata": {},
   "outputs": [],
   "source": [
    "selected_cols = ['Country Name', 'Series Code', 'Series Name']\n",
    "unselected_cols = ['Country Code']"
   ]
  },
  {
   "cell_type": "code",
   "execution_count": 38,
   "metadata": {},
   "outputs": [
    {
     "data": {
      "text/html": [
       "<div>\n",
       "<style scoped>\n",
       "    .dataframe tbody tr th:only-of-type {\n",
       "        vertical-align: middle;\n",
       "    }\n",
       "\n",
       "    .dataframe tbody tr th {\n",
       "        vertical-align: top;\n",
       "    }\n",
       "\n",
       "    .dataframe thead th {\n",
       "        text-align: right;\n",
       "    }\n",
       "</style>\n",
       "<table border=\"1\" class=\"dataframe\">\n",
       "  <thead>\n",
       "    <tr style=\"text-align: right;\">\n",
       "      <th></th>\n",
       "      <th>country</th>\n",
       "      <th>code</th>\n",
       "      <th>indicator</th>\n",
       "      <th>year</th>\n",
       "      <th>value</th>\n",
       "    </tr>\n",
       "  </thead>\n",
       "  <tbody>\n",
       "    <tr>\n",
       "      <th>0</th>\n",
       "      <td>Bangladesh</td>\n",
       "      <td>SP.POP.TOTL</td>\n",
       "      <td>Population, total</td>\n",
       "      <td>2015 [YR2015]</td>\n",
       "      <td>156256276</td>\n",
       "    </tr>\n",
       "    <tr>\n",
       "      <th>1</th>\n",
       "      <td>Bangladesh</td>\n",
       "      <td>SP.POP.GROW</td>\n",
       "      <td>Population growth (annual %)</td>\n",
       "      <td>2015 [YR2015]</td>\n",
       "      <td>1.11728</td>\n",
       "    </tr>\n",
       "    <tr>\n",
       "      <th>2</th>\n",
       "      <td>Bangladesh</td>\n",
       "      <td>SI.DST.FRST.20</td>\n",
       "      <td>Income share held by lowest 20%</td>\n",
       "      <td>2015 [YR2015]</td>\n",
       "      <td>..</td>\n",
       "    </tr>\n",
       "    <tr>\n",
       "      <th>3</th>\n",
       "      <td>Bangladesh</td>\n",
       "      <td>NY.GDP.MKTP.CD</td>\n",
       "      <td>GDP (current US$)</td>\n",
       "      <td>2015 [YR2015]</td>\n",
       "      <td>1.95079e+11</td>\n",
       "    </tr>\n",
       "    <tr>\n",
       "      <th>4</th>\n",
       "      <td>Bangladesh</td>\n",
       "      <td>NY.GDP.MKTP.KD.ZG</td>\n",
       "      <td>GDP growth (annual %)</td>\n",
       "      <td>2015 [YR2015]</td>\n",
       "      <td>6.55264</td>\n",
       "    </tr>\n",
       "    <tr>\n",
       "      <th>5</th>\n",
       "      <td>Bangladesh</td>\n",
       "      <td>NY.GDP.DEFL.KD.ZG</td>\n",
       "      <td>Inflation, GDP deflator (annual %)</td>\n",
       "      <td>2015 [YR2015]</td>\n",
       "      <td>5.87278</td>\n",
       "    </tr>\n",
       "    <tr>\n",
       "      <th>6</th>\n",
       "      <td>Bangladesh</td>\n",
       "      <td>NV.IND.TOTL.ZS</td>\n",
       "      <td>Industry (including construction), value added...</td>\n",
       "      <td>2015 [YR2015]</td>\n",
       "      <td>26.8314</td>\n",
       "    </tr>\n",
       "    <tr>\n",
       "      <th>7</th>\n",
       "      <td>Bangladesh</td>\n",
       "      <td>NE.EXP.GNFS.ZS</td>\n",
       "      <td>Exports of goods and services (% of GDP)</td>\n",
       "      <td>2015 [YR2015]</td>\n",
       "      <td>17.3367</td>\n",
       "    </tr>\n",
       "    <tr>\n",
       "      <th>8</th>\n",
       "      <td>Bangladesh</td>\n",
       "      <td>NE.IMP.GNFS.ZS</td>\n",
       "      <td>Imports of goods and services (% of GDP)</td>\n",
       "      <td>2015 [YR2015]</td>\n",
       "      <td>24.7493</td>\n",
       "    </tr>\n",
       "    <tr>\n",
       "      <th>9</th>\n",
       "      <td>Bangladesh</td>\n",
       "      <td>NE.GDI.TOTL.ZS</td>\n",
       "      <td>Gross capital formation (% of GDP)</td>\n",
       "      <td>2015 [YR2015]</td>\n",
       "      <td>28.8867</td>\n",
       "    </tr>\n",
       "  </tbody>\n",
       "</table>\n",
       "</div>"
      ],
      "text/plain": [
       "      country               code  \\\n",
       "0  Bangladesh        SP.POP.TOTL   \n",
       "1  Bangladesh        SP.POP.GROW   \n",
       "2  Bangladesh     SI.DST.FRST.20   \n",
       "3  Bangladesh     NY.GDP.MKTP.CD   \n",
       "4  Bangladesh  NY.GDP.MKTP.KD.ZG   \n",
       "5  Bangladesh  NY.GDP.DEFL.KD.ZG   \n",
       "6  Bangladesh     NV.IND.TOTL.ZS   \n",
       "7  Bangladesh     NE.EXP.GNFS.ZS   \n",
       "8  Bangladesh     NE.IMP.GNFS.ZS   \n",
       "9  Bangladesh     NE.GDI.TOTL.ZS   \n",
       "\n",
       "                                           indicator           year  \\\n",
       "0                                  Population, total  2015 [YR2015]   \n",
       "1                       Population growth (annual %)  2015 [YR2015]   \n",
       "2                    Income share held by lowest 20%  2015 [YR2015]   \n",
       "3                                  GDP (current US$)  2015 [YR2015]   \n",
       "4                              GDP growth (annual %)  2015 [YR2015]   \n",
       "5                 Inflation, GDP deflator (annual %)  2015 [YR2015]   \n",
       "6  Industry (including construction), value added...  2015 [YR2015]   \n",
       "7           Exports of goods and services (% of GDP)  2015 [YR2015]   \n",
       "8           Imports of goods and services (% of GDP)  2015 [YR2015]   \n",
       "9                 Gross capital formation (% of GDP)  2015 [YR2015]   \n",
       "\n",
       "         value  \n",
       "0    156256276  \n",
       "1      1.11728  \n",
       "2           ..  \n",
       "3  1.95079e+11  \n",
       "4      6.55264  \n",
       "5      5.87278  \n",
       "6      26.8314  \n",
       "7      17.3367  \n",
       "8      24.7493  \n",
       "9      28.8867  "
      ]
     },
     "execution_count": 38,
     "metadata": {},
     "output_type": "execute_result"
    }
   ],
   "source": [
    "df_fin_data_long_format = pd.melt(raw_fin_data.drop(columns=unselected_cols) # melt() converts wide to long format\n",
    "                               , id_vars=selected_cols, var_name= 'year'\\\n",
    "                               , value_name = 'value')\n",
    "                                \n",
    "#rename columns\n",
    "df_fin_data_long_format.rename(columns={\n",
    "    \"Country Name\" : \"country\",\n",
    "    \"Series Name\" : \"indicator\", \"Series Code\" : \"code\"\n",
    "}, inplace=True)   \n",
    "\n",
    "df_fin_data_long_format.head(10)"
   ]
  },
  {
   "cell_type": "markdown",
   "metadata": {},
   "source": [
    "#### 3. Writing the long formatted data back to the file\n",
    "##### We'll write the new long formatted table back to the excel file\n",
    "##### Since ExcelWriter overwrites the previous version of the file, we have to re-insert the remaining sheets as well\n",
    "##### This step is an intermediate step. After executing this step, our file's \"long format\" sheet will be ready for tableau viz"
   ]
  },
  {
   "cell_type": "code",
   "execution_count": 43,
   "metadata": {},
   "outputs": [],
   "source": [
    "# Create a Pandas Excel writer using XlsxWriter as the engine.\n",
    "writer = pd.ExcelWriter(file_name, engine='xlsxwriter')\n",
    "\n",
    "# Convert the dataframe to an XlsxWriter Excel object.\n",
    "df_fin_data_long_format.to_excel(writer, sheet_name='long format', index=False)\n",
    "df_read_all_sheets[read_sheet].to_excel(writer, sheet_name=read_sheet)\n",
    "df_read_all_sheets['Series - Metadata'].to_excel(writer, sheet_name='Series - Metadata')\n",
    "\n",
    "# Close the Pandas Excel writer and output the Excel file.\n",
    "writer.save()"
   ]
  },
  {
   "cell_type": "markdown",
   "metadata": {},
   "source": [
    "#### 4. Segregating the financial inclusion indicators into different column headers\n",
    "##### The World Bank's data has all the indicators listed in a single column, called indicators\n",
    "##### This makes it difficult to focus on any single indicator for analysis or visualization\n",
    "##### So, in this step, we'll seggregate the indicators (and their values) into columns "
   ]
  },
  {
   "cell_type": "markdown",
   "metadata": {},
   "source": [
    "#####  4a. Group the data based on different indicators "
   ]
  },
  {
   "cell_type": "code",
   "execution_count": 44,
   "metadata": {},
   "outputs": [],
   "source": [
    "grouped = fin_data_long_format.groupby(fin_data_long_format.code) "
   ]
  },
  {
   "cell_type": "markdown",
   "metadata": {},
   "source": [
    "##### 4b. Formatting each group and prepping for the final processing step\n",
    "##### A lot of pre-processing is happening in this step!\n",
    "##### We will re-label the 'value' column with the indicator name. Look at how we have done that!\n"
   ]
  },
  {
   "cell_type": "code",
   "execution_count": 53,
   "metadata": {},
   "outputs": [],
   "source": [
    "lst_indicator = []\n",
    "for name, group in grouped:\n",
    "    indicator_name = group.iloc[0]['indicator'] # we need to rename the column \"value\" to the relevant indicator name\n",
    "    group.rename(columns={\"value\":indicator_name},inplace=True) # How did we do this? We extracted the value of any indicator column of each group (using iloc) to re-label \"value\" column\n",
    "    group.drop(columns=['code','indicator'],inplace=True) \n",
    "    lst_indicator.append(group) # We are collecting all the grouped dataframes into a list of indicator dataframes"
   ]
  },
  {
   "cell_type": "markdown",
   "metadata": {},
   "source": [
    "#### 5. Final processing step\n",
    "##### We will now combine all the dataframes collected in the list of dataframes above\n",
    "##### to finally have all the indicator columns and their values in a single dataframe"
   ]
  },
  {
   "cell_type": "code",
   "execution_count": 54,
   "metadata": {},
   "outputs": [],
   "source": [
    "df_final_processed_data = reduce(lambda df1,df2: pd.merge(df1,df2,on=['country','year']), lst_indicator[:])\n"
   ]
  },
  {
   "cell_type": "markdown",
   "metadata": {},
   "source": [
    "#### 6. Writing back to the file"
   ]
  },
  {
   "cell_type": "code",
   "execution_count": 59,
   "metadata": {},
   "outputs": [],
   "source": [
    "# Create a Pandas Excel writer using XlsxWriter as the engine.\n",
    "writer = pd.ExcelWriter(file_name, engine='xlsxwriter')\n",
    "\n",
    "# Convert the dataframe to an XlsxWriter Excel object.\n",
    "df_fin_data_long_format.to_excel(writer, sheet_name='long format', index=False)\n",
    "df_final_processed_data.to_excel(writer, sheet_name='final processed data', index=False)\n",
    "read_all_sheets[read_sheet].to_excel(writer, sheet_name=read_sheet)\n",
    "read_all_sheets['Series - Metadata'].to_excel(writer, sheet_name='Series - Metadata')\n",
    "\n",
    "# Close the Pandas Excel writer and output the Excel file.\n",
    "writer.save()"
   ]
  },
  {
   "cell_type": "code",
   "execution_count": null,
   "metadata": {},
   "outputs": [],
   "source": []
  }
 ],
 "metadata": {
  "kernelspec": {
   "display_name": "Python 3",
   "language": "python",
   "name": "python3"
  },
  "language_info": {
   "codemirror_mode": {
    "name": "ipython",
    "version": 3
   },
   "file_extension": ".py",
   "mimetype": "text/x-python",
   "name": "python",
   "nbconvert_exporter": "python",
   "pygments_lexer": "ipython3",
   "version": "3.7.7"
  }
 },
 "nbformat": 4,
 "nbformat_minor": 4
}
